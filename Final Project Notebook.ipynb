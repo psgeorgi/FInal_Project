{
 "cells": [
  {
   "cell_type": "markdown",
   "metadata": {},
   "source": [
    "# Final Project Notebook\n",
    "\n",
    "### I'll keep track of my final project work here\n",
    "\n"
   ]
  },
  {
   "cell_type": "markdown",
   "metadata": {},
   "source": [
    "#### Suggestions of EDA from Joe\n",
    "\n",
    "Example EDA for your final project check-in submission on May 15 may include (but is not limited to):\n",
    "- Identifying the amount and type of your data\n",
    "- Cleaning 'aesthetics' of your dataset (renaming columns to remove space or have consistency)\n",
    "- Checking data integrity (missing values, and how you may fill them in; identifying and explaining/handling anomalies)\n",
    "- Filtering and sorting of your data to identify relevant populations\n",
    "- Plotting distributions of variables of interest\n",
    "- Creating plots visualizing anticipated relationships that may inform your model building"
   ]
  },
  {
   "cell_type": "code",
   "execution_count": 376,
   "metadata": {
    "collapsed": true
   },
   "outputs": [],
   "source": [
    "# import packages that I'll probably use\n",
    "import pandas as pd\n",
    "import numpy as np\n",
    "import seaborn as sns\n",
    "import matplotlib.pyplot as plt\n",
    "\n",
    "%matplotlib inline"
   ]
  },
  {
   "cell_type": "code",
   "execution_count": 377,
   "metadata": {
    "collapsed": false
   },
   "outputs": [],
   "source": [
    "# Read in the Data\n",
    "\n",
    "ksmb_csv = './kickstarter-project-statistics/most_backed.csv'\n",
    "ksmb = pd.read_csv(ksmb_csv)\n"
   ]
  },
  {
   "cell_type": "code",
   "execution_count": null,
   "metadata": {
    "collapsed": true
   },
   "outputs": [],
   "source": []
  },
  {
   "cell_type": "code",
   "execution_count": 378,
   "metadata": {
    "collapsed": false
   },
   "outputs": [
    {
     "data": {
      "text/plain": [
       "Index(['Unnamed: 0', 'amt.pledged', 'blurb', 'by', 'category', 'currency',\n",
       "       'goal', 'location', 'num.backers', 'num.backers.tier', 'pledge.tier',\n",
       "       'title', 'url'],\n",
       "      dtype='object')"
      ]
     },
     "execution_count": 378,
     "metadata": {},
     "output_type": "execute_result"
    }
   ],
   "source": [
    "ksmb.columns"
   ]
  },
  {
   "cell_type": "markdown",
   "metadata": {},
   "source": [
    "### First 4000 live projects that are currently campaigning on Kickstarter (live.csv)\n",
    "\n",
    "Last updated: 2016-10-29 5pm PDT\n",
    "- amt.pledged: amount pledged (float)\n",
    "- blurb: project blurb (string)\n",
    "- by: project creator (string)\n",
    "- country: abbreviated country code (string of length 2)\n",
    "- currency: currency type of amt.pledged (string of length 3)\n",
    "- end.time: campaign end time (string \"YYYY-MM-DDThh:mm:ss-TZD\")\n",
    "- location: mostly city (string)\n",
    "- pecentage.funded: unit % (int)\n",
    "- state: mostly US states (string of length 2) and others (string)\n",
    "- title: project title (string)\n",
    "- type: type of location (string: County/Island/LocalAdmin/Suburb/Town/Zip)\n",
    "- url: project url after domain (string)"
   ]
  },
  {
   "cell_type": "markdown",
   "metadata": {},
   "source": [
    "### Top 4000 most backed projects ever on Kickstarter (most_backed.csv)\n",
    "\n",
    "- Last updated: 2016-10-30 10pm PDT\n",
    "- amt.pledged\n",
    "- blurb\n",
    "- by\n",
    "- category: project category (string)\n",
    "- currency\n",
    "- goal: original pledge goal (float)\n",
    "- location\n",
    "- num.backers: total number of backers (int)\n",
    "- num.backers.tier: number of backers corresponds to the pledge amount in pledge.tier (int[len(pledge.tier)])\n",
    "- pledge.tier: pledge tiers in USD (float[])\n",
    "- title\n",
    "- url"
   ]
  },
  {
   "cell_type": "code",
   "execution_count": 379,
   "metadata": {
    "collapsed": false,
    "scrolled": true
   },
   "outputs": [
    {
     "data": {
      "text/html": [
       "<div>\n",
       "<table border=\"1\" class=\"dataframe\">\n",
       "  <thead>\n",
       "    <tr style=\"text-align: right;\">\n",
       "      <th></th>\n",
       "      <th>Unnamed: 0</th>\n",
       "      <th>amt.pledged</th>\n",
       "      <th>blurb</th>\n",
       "      <th>by</th>\n",
       "      <th>category</th>\n",
       "      <th>currency</th>\n",
       "      <th>goal</th>\n",
       "      <th>location</th>\n",
       "      <th>num.backers</th>\n",
       "      <th>num.backers.tier</th>\n",
       "      <th>pledge.tier</th>\n",
       "      <th>title</th>\n",
       "      <th>url</th>\n",
       "    </tr>\n",
       "  </thead>\n",
       "  <tbody>\n",
       "    <tr>\n",
       "      <th>0</th>\n",
       "      <td>0</td>\n",
       "      <td>8782571.0</td>\n",
       "      <td>\\r\\nThis is a card game for people who are int...</td>\n",
       "      <td>Elan Lee</td>\n",
       "      <td>Tabletop Games</td>\n",
       "      <td>usd</td>\n",
       "      <td>10000.0</td>\n",
       "      <td>Los Angeles, CA</td>\n",
       "      <td>219382</td>\n",
       "      <td>[15505, 202934, 200, 5]</td>\n",
       "      <td>[20.0, 35.0, 100.0, 500.0]</td>\n",
       "      <td>Exploding Kittens</td>\n",
       "      <td>/projects/elanlee/exploding-kittens</td>\n",
       "    </tr>\n",
       "    <tr>\n",
       "      <th>1</th>\n",
       "      <td>1</td>\n",
       "      <td>6465690.0</td>\n",
       "      <td>\\r\\nAn unusually addicting, high-quality desk ...</td>\n",
       "      <td>Matthew and Mark McLachlan</td>\n",
       "      <td>Product Design</td>\n",
       "      <td>usd</td>\n",
       "      <td>15000.0</td>\n",
       "      <td>Denver, CO</td>\n",
       "      <td>154926</td>\n",
       "      <td>[788, 250, 43073, 21796, 41727, 21627, 12215, ...</td>\n",
       "      <td>[1.0, 14.0, 19.0, 19.0, 35.0, 35.0, 79.0, 79.0...</td>\n",
       "      <td>Fidget Cube: A Vinyl Desk Toy</td>\n",
       "      <td>/projects/antsylabs/fidget-cube-a-vinyl-desk-toy</td>\n",
       "    </tr>\n",
       "    <tr>\n",
       "      <th>2</th>\n",
       "      <td>2</td>\n",
       "      <td>5408916.0</td>\n",
       "      <td>\\r\\nBring Reading Rainbow’s library of interac...</td>\n",
       "      <td>LeVar Burton &amp; Reading Rainbow</td>\n",
       "      <td>Web</td>\n",
       "      <td>usd</td>\n",
       "      <td>1000000.0</td>\n",
       "      <td>Los Angeles, CA</td>\n",
       "      <td>105857</td>\n",
       "      <td>[19639, 14343, 9136, 2259, 5666, 24512, 4957, ...</td>\n",
       "      <td>[5.0, 10.0, 25.0, 30.0, 35.0, 50.0, 75.0, 100....</td>\n",
       "      <td>Bring Reading Rainbow Back for Every Child, Ev...</td>\n",
       "      <td>/projects/readingrainbow/bring-reading-rainbow...</td>\n",
       "    </tr>\n",
       "    <tr>\n",
       "      <th>3</th>\n",
       "      <td>3</td>\n",
       "      <td>5702153.0</td>\n",
       "      <td>\\r\\nUPDATED: This is it. We're making a Veroni...</td>\n",
       "      <td>Rob Thomas</td>\n",
       "      <td>Narrative Film</td>\n",
       "      <td>usd</td>\n",
       "      <td>2000000.0</td>\n",
       "      <td>San Diego, CA</td>\n",
       "      <td>91585</td>\n",
       "      <td>[5938, 8423, 11509, 22997, 23227, 1865, 7260, ...</td>\n",
       "      <td>[1.0, 10.0, 25.0, 35.0, 50.0, 75.0, 100.0, 150...</td>\n",
       "      <td>The Veronica Mars Movie Project</td>\n",
       "      <td>/projects/559914737/the-veronica-mars-movie-pr...</td>\n",
       "    </tr>\n",
       "    <tr>\n",
       "      <th>4</th>\n",
       "      <td>4</td>\n",
       "      <td>3336371.0</td>\n",
       "      <td>\\r\\nAn adventure game from Tim Schafer, Double...</td>\n",
       "      <td>Double Fine and 2 Player Productions</td>\n",
       "      <td>Video Games</td>\n",
       "      <td>usd</td>\n",
       "      <td>400000.0</td>\n",
       "      <td>San Francisco, CA</td>\n",
       "      <td>87142</td>\n",
       "      <td>[47946, 24636, 1090, 11530, 900, 148, 100, 10, 4]</td>\n",
       "      <td>[15.0, 30.0, 60.0, 100.0, 250.0, 500.0, 1000.0...</td>\n",
       "      <td>Double Fine Adventure</td>\n",
       "      <td>/projects/doublefine/double-fine-adventure</td>\n",
       "    </tr>\n",
       "  </tbody>\n",
       "</table>\n",
       "</div>"
      ],
      "text/plain": [
       "   Unnamed: 0  amt.pledged                                              blurb  \\\n",
       "0           0    8782571.0  \\r\\nThis is a card game for people who are int...   \n",
       "1           1    6465690.0  \\r\\nAn unusually addicting, high-quality desk ...   \n",
       "2           2    5408916.0  \\r\\nBring Reading Rainbow’s library of interac...   \n",
       "3           3    5702153.0  \\r\\nUPDATED: This is it. We're making a Veroni...   \n",
       "4           4    3336371.0  \\r\\nAn adventure game from Tim Schafer, Double...   \n",
       "\n",
       "                                     by        category currency       goal  \\\n",
       "0                              Elan Lee  Tabletop Games      usd    10000.0   \n",
       "1            Matthew and Mark McLachlan  Product Design      usd    15000.0   \n",
       "2        LeVar Burton & Reading Rainbow             Web      usd  1000000.0   \n",
       "3                            Rob Thomas  Narrative Film      usd  2000000.0   \n",
       "4  Double Fine and 2 Player Productions     Video Games      usd   400000.0   \n",
       "\n",
       "            location  num.backers  \\\n",
       "0    Los Angeles, CA       219382   \n",
       "1         Denver, CO       154926   \n",
       "2    Los Angeles, CA       105857   \n",
       "3      San Diego, CA        91585   \n",
       "4  San Francisco, CA        87142   \n",
       "\n",
       "                                    num.backers.tier  \\\n",
       "0                            [15505, 202934, 200, 5]   \n",
       "1  [788, 250, 43073, 21796, 41727, 21627, 12215, ...   \n",
       "2  [19639, 14343, 9136, 2259, 5666, 24512, 4957, ...   \n",
       "3  [5938, 8423, 11509, 22997, 23227, 1865, 7260, ...   \n",
       "4  [47946, 24636, 1090, 11530, 900, 148, 100, 10, 4]   \n",
       "\n",
       "                                         pledge.tier  \\\n",
       "0                         [20.0, 35.0, 100.0, 500.0]   \n",
       "1  [1.0, 14.0, 19.0, 19.0, 35.0, 35.0, 79.0, 79.0...   \n",
       "2  [5.0, 10.0, 25.0, 30.0, 35.0, 50.0, 75.0, 100....   \n",
       "3  [1.0, 10.0, 25.0, 35.0, 50.0, 75.0, 100.0, 150...   \n",
       "4  [15.0, 30.0, 60.0, 100.0, 250.0, 500.0, 1000.0...   \n",
       "\n",
       "                                               title  \\\n",
       "0                                  Exploding Kittens   \n",
       "1                      Fidget Cube: A Vinyl Desk Toy   \n",
       "2  Bring Reading Rainbow Back for Every Child, Ev...   \n",
       "3                    The Veronica Mars Movie Project   \n",
       "4                              Double Fine Adventure   \n",
       "\n",
       "                                                 url  \n",
       "0                /projects/elanlee/exploding-kittens  \n",
       "1   /projects/antsylabs/fidget-cube-a-vinyl-desk-toy  \n",
       "2  /projects/readingrainbow/bring-reading-rainbow...  \n",
       "3  /projects/559914737/the-veronica-mars-movie-pr...  \n",
       "4         /projects/doublefine/double-fine-adventure  "
      ]
     },
     "execution_count": 379,
     "metadata": {},
     "output_type": "execute_result"
    }
   ],
   "source": [
    "ksmb.head(5)"
   ]
  },
  {
   "cell_type": "code",
   "execution_count": 380,
   "metadata": {
    "collapsed": false
   },
   "outputs": [],
   "source": [
    "# Get rid of the Unnamed column, something didn't get pulled through right\n",
    "del ksmb['Unnamed: 0']\n"
   ]
  },
  {
   "cell_type": "code",
   "execution_count": 381,
   "metadata": {
    "collapsed": false
   },
   "outputs": [],
   "source": [
    "# Going to rename all the columns that have periods in them with underscores\n",
    "ksmb.rename(columns = {'amt.pledged' : 'pledged_amount'}, inplace=True)\n",
    "ksmb.rename(columns = {'pledge.tier' : 'pledge_tier'}, inplace=True)\n",
    "ksmb.rename(columns = {'num.backers' : 'backers'}, inplace=True)\n",
    "ksmb.rename(columns = {'num.backers.tier' : 'backers_by_tier'}, inplace=True)"
   ]
  },
  {
   "cell_type": "code",
   "execution_count": 384,
   "metadata": {
    "collapsed": false
   },
   "outputs": [
    {
     "name": "stdout",
     "output_type": "stream",
     "text": [
      "pledged_amount                                            2.0339e+07\n",
      "blurb              \\r\\nColor e-paper smartwatch with up to 7 days...\n",
      "by                                                 Pebble Technology\n",
      "category                                              Product Design\n",
      "currency                                                         usd\n",
      "goal                                                          500000\n",
      "location                                               Palo Alto, CA\n",
      "backers                                                        78471\n",
      "backers_by_tier    [10000, 22991, 5278, 19999, 6041, 4717, 4998, ...\n",
      "pledge_tier        [159.0, 179.0, 179.0, 250.0, 250.0, 338.0, 400...\n",
      "title               Pebble Time - Awesome Smartwatch, No Compromises\n",
      "url                /projects/597507018/pebble-time-awesome-smartw...\n",
      "Name: 5, dtype: object\n"
     ]
    }
   ],
   "source": [
    "# What project had the highest pledge amount\n",
    "print(ksmb.loc[ksmb['pledged_amount'].idxmax()])"
   ]
  },
  {
   "cell_type": "code",
   "execution_count": 386,
   "metadata": {
    "collapsed": false
   },
   "outputs": [
    {
     "name": "stdout",
     "output_type": "stream",
     "text": [
      "[714, 981, 1170, 1409, 3395, 3744]\n"
     ]
    }
   ],
   "source": [
    "# Some of the observations have '...' in it, so I will clean that out \n",
    "\n",
    "clean_tiers = []\n",
    "for i,row in enumerate(ksmb['pledge_tier']):\n",
    "    if '...' in row:\n",
    "        clean_tiers.append(i)\n",
    "print(clean_tiers)"
   ]
  },
  {
   "cell_type": "code",
   "execution_count": 387,
   "metadata": {
    "collapsed": false
   },
   "outputs": [],
   "source": [
    "ksmb = ksmb.drop(ksmb.index[clean_tiers])"
   ]
  },
  {
   "cell_type": "code",
   "execution_count": 388,
   "metadata": {
    "collapsed": false
   },
   "outputs": [],
   "source": [
    "# The following functions turn the variables pledge_tier and backers_by tier into lists containing floats rather than strings\n",
    "\n",
    "def number_tier(string):    \n",
    "    return len(string[1:-1].split(', '))\n",
    "\n",
    "def new_tiers(string):\n",
    "    tiers = []\n",
    "    for s in string[1:-1].split(', '):\n",
    "        tiers.append(float(s))\n",
    "    return tiers\n",
    "\n",
    "# Here I am replacing the columns with the float values colmns, as well as creating a new column that displays the overall\n",
    "# number of tiers each project offers\n",
    "\n",
    "ksmb['number_of_tiers'] = ksmb['pledge_tier'].apply(number_tier)\n",
    "ksmb['pledge_tier'] = ksmb['pledge_tier'].apply(new_tiers)\n",
    "ksmb['backers_by_tier'] = ksmb['backers_by_tier'].apply(new_tiers)\n"
   ]
  },
  {
   "cell_type": "code",
   "execution_count": 389,
   "metadata": {
    "collapsed": false
   },
   "outputs": [
    {
     "data": {
      "text/plain": [
       "0"
      ]
     },
     "execution_count": 389,
     "metadata": {},
     "output_type": "execute_result"
    }
   ],
   "source": [
    "# Check for any null values\n",
    "\n",
    "ksmb.pledge_tier.isnull().sum()"
   ]
  },
  {
   "cell_type": "code",
   "execution_count": 392,
   "metadata": {
    "collapsed": false
   },
   "outputs": [
    {
     "name": "stdout",
     "output_type": "stream",
     "text": [
      "count      3994.000000\n",
      "mean         70.206361\n",
      "std        2015.758049\n",
      "min           1.000000\n",
      "25%           2.010495\n",
      "50%           4.584257\n",
      "75%          10.517017\n",
      "max      104277.000000\n",
      "Name: percent_overfunded, dtype: float64\n",
      "pledged_amount                                                   104277\n",
      "blurb                 \\r\\nVulfpeck's 2016 release, The Beautiful Gam...\n",
      "by                                                        Jack Stratton\n",
      "category                                                          Music\n",
      "currency                                                            usd\n",
      "goal                                                                  1\n",
      "location                                                Los Angeles, CA\n",
      "backers                                                            3917\n",
      "backers_by_tier                                  [1354.0, 2419.0, 95.0]\n",
      "pledge_tier                                         [10.0, 25.0, 100.0]\n",
      "title                                   VULFPECK /// The Beautiful Game\n",
      "url                    /projects/1461914303/vulfpeck-the-beautiful-game\n",
      "number_of_tiers                                                       3\n",
      "percent_overfunded                                               104277\n",
      "Name: 808, dtype: object\n"
     ]
    }
   ],
   "source": [
    "# Add another column that represents the percent overfunded that each project reached. For the most backed projects, each \n",
    "# project was obviously at least 100% funded, so we can calculate how much over that 100% goal each project reached.\n",
    "\n",
    "ksmb['percent_overfunded'] = (ksmb['pledged_amount']/ksmb['goal'])\n",
    "\n",
    "print(ksmb.percent_overfunded.describe())\n",
    "print(ksmb.loc[ksmb['percent_overfunded'].idxmax()])"
   ]
  },
  {
   "cell_type": "code",
   "execution_count": null,
   "metadata": {
    "collapsed": false
   },
   "outputs": [],
   "source": []
  },
  {
   "cell_type": "code",
   "execution_count": 393,
   "metadata": {
    "collapsed": false
   },
   "outputs": [
    {
     "data": {
      "text/plain": [
       "San Francisco, CA                         279\n",
       "Los Angeles, CA                           270\n",
       "New York, NY                              212\n",
       "Seattle, WA                               146\n",
       "London, UK                                132\n",
       "Chicago, IL                               121\n",
       "Brooklyn, NY                              103\n",
       "Portland, OR                               84\n",
       "San Diego, CA                              62\n",
       "Toronto, Canada                            60\n",
       "Austin, TX                                 60\n",
       "Boston, MA                                 56\n",
       "Salt Lake City, UT                         48\n",
       "Atlanta, GA                                43\n",
       "Dallas, TX                                 39\n",
       "Washington, DC                             30\n",
       "St. Louis, MO                              30\n",
       "Oakland, CA                                29\n",
       "Montreal, Canada                           28\n",
       "Cambridge, MA                              28\n",
       "San Jose, CA                               27\n",
       "Paris, France                              26\n",
       "Tokyo, Japan                               25\n",
       "Melbourne, AU                              25\n",
       "Vancouver, Canada                          25\n",
       "Nashville, TN                              24\n",
       "Provo, UT                                  24\n",
       "Philadelphia, PA                           24\n",
       "Las Vegas, NV                              24\n",
       "Palo Alto, CA                              22\n",
       "                                         ... \n",
       "Aberdeen, UK                                1\n",
       "Morecambe, UK                               1\n",
       "Bridgeport, CT                              1\n",
       "Brookfield, CT                              1\n",
       "Spanish Fork, UT                            1\n",
       "Wellsville, NY                              1\n",
       "Westmont, NJ                                1\n",
       "Newbury Park, Thousand Oaks, CA             1\n",
       "Aptos, CA                                   1\n",
       "Bangor, ME                                  1\n",
       "Taunton, UK                                 1\n",
       "Anchorage, AK                               1\n",
       "Zaporizhzhya, Ukraine                       1\n",
       "Charlotte Amalie, Virgin Islands, U.S.      1\n",
       "Hackensack, NJ                              1\n",
       "Humble, TX                                  1\n",
       "Brisbane, CA                                1\n",
       "Lake Arrowhead, CA                          1\n",
       "Hanford, CA                                 1\n",
       "Luhans'k, Ukraine                           1\n",
       "Stockport, UK                               1\n",
       "York, UK                                    1\n",
       "Newark, CA                                  1\n",
       "Taos, NM                                    1\n",
       "Makati City, Philippines                    1\n",
       "Lenexa, KS                                  1\n",
       "Penticton, Canada                           1\n",
       "Evanston, IL                                1\n",
       "Spokane, WA                                 1\n",
       "Houghton, MI                                1\n",
       "Name: location, dtype: int64"
      ]
     },
     "execution_count": 393,
     "metadata": {},
     "output_type": "execute_result"
    }
   ],
   "source": [
    "# Lets take a look at some of the most active cities\n",
    "ksmb.location.value_counts()"
   ]
  },
  {
   "cell_type": "code",
   "execution_count": 394,
   "metadata": {
    "collapsed": false
   },
   "outputs": [],
   "source": [
    "# Create a variable that is just the two letter state code by pulling last two digits from location"
   ]
  },
  {
   "cell_type": "code",
   "execution_count": 395,
   "metadata": {
    "collapsed": false
   },
   "outputs": [],
   "source": [
    "def grab_state(place):\n",
    "    return place.split(',')[1].strip()"
   ]
  },
  {
   "cell_type": "code",
   "execution_count": 396,
   "metadata": {
    "collapsed": true
   },
   "outputs": [],
   "source": [
    "ksmb['State'] = ksmb.location.apply(grab_state)"
   ]
  },
  {
   "cell_type": "code",
   "execution_count": 397,
   "metadata": {
    "collapsed": false
   },
   "outputs": [
    {
     "data": {
      "text/html": [
       "<div>\n",
       "<table border=\"1\" class=\"dataframe\">\n",
       "  <thead>\n",
       "    <tr style=\"text-align: right;\">\n",
       "      <th></th>\n",
       "      <th>pledged_amount</th>\n",
       "      <th>blurb</th>\n",
       "      <th>by</th>\n",
       "      <th>category</th>\n",
       "      <th>currency</th>\n",
       "      <th>goal</th>\n",
       "      <th>location</th>\n",
       "      <th>backers</th>\n",
       "      <th>backers_by_tier</th>\n",
       "      <th>pledge_tier</th>\n",
       "      <th>title</th>\n",
       "      <th>url</th>\n",
       "      <th>number_of_tiers</th>\n",
       "      <th>percent_overfunded</th>\n",
       "      <th>State</th>\n",
       "    </tr>\n",
       "  </thead>\n",
       "  <tbody>\n",
       "    <tr>\n",
       "      <th>0</th>\n",
       "      <td>8782571.0</td>\n",
       "      <td>\\r\\nThis is a card game for people who are int...</td>\n",
       "      <td>Elan Lee</td>\n",
       "      <td>Tabletop Games</td>\n",
       "      <td>usd</td>\n",
       "      <td>10000.0</td>\n",
       "      <td>Los Angeles, CA</td>\n",
       "      <td>219382</td>\n",
       "      <td>[15505.0, 202934.0, 200.0, 5.0]</td>\n",
       "      <td>[20.0, 35.0, 100.0, 500.0]</td>\n",
       "      <td>Exploding Kittens</td>\n",
       "      <td>/projects/elanlee/exploding-kittens</td>\n",
       "      <td>4</td>\n",
       "      <td>878.2571</td>\n",
       "      <td>CA</td>\n",
       "    </tr>\n",
       "    <tr>\n",
       "      <th>1</th>\n",
       "      <td>6465690.0</td>\n",
       "      <td>\\r\\nAn unusually addicting, high-quality desk ...</td>\n",
       "      <td>Matthew and Mark McLachlan</td>\n",
       "      <td>Product Design</td>\n",
       "      <td>usd</td>\n",
       "      <td>15000.0</td>\n",
       "      <td>Denver, CO</td>\n",
       "      <td>154926</td>\n",
       "      <td>[788.0, 250.0, 43073.0, 21796.0, 41727.0, 2162...</td>\n",
       "      <td>[1.0, 14.0, 19.0, 19.0, 35.0, 35.0, 79.0, 79.0...</td>\n",
       "      <td>Fidget Cube: A Vinyl Desk Toy</td>\n",
       "      <td>/projects/antsylabs/fidget-cube-a-vinyl-desk-toy</td>\n",
       "      <td>12</td>\n",
       "      <td>431.0460</td>\n",
       "      <td>CO</td>\n",
       "    </tr>\n",
       "  </tbody>\n",
       "</table>\n",
       "</div>"
      ],
      "text/plain": [
       "   pledged_amount                                              blurb  \\\n",
       "0       8782571.0  \\r\\nThis is a card game for people who are int...   \n",
       "1       6465690.0  \\r\\nAn unusually addicting, high-quality desk ...   \n",
       "\n",
       "                           by        category currency     goal  \\\n",
       "0                    Elan Lee  Tabletop Games      usd  10000.0   \n",
       "1  Matthew and Mark McLachlan  Product Design      usd  15000.0   \n",
       "\n",
       "          location  backers  \\\n",
       "0  Los Angeles, CA   219382   \n",
       "1       Denver, CO   154926   \n",
       "\n",
       "                                     backers_by_tier  \\\n",
       "0                    [15505.0, 202934.0, 200.0, 5.0]   \n",
       "1  [788.0, 250.0, 43073.0, 21796.0, 41727.0, 2162...   \n",
       "\n",
       "                                         pledge_tier  \\\n",
       "0                         [20.0, 35.0, 100.0, 500.0]   \n",
       "1  [1.0, 14.0, 19.0, 19.0, 35.0, 35.0, 79.0, 79.0...   \n",
       "\n",
       "                           title  \\\n",
       "0              Exploding Kittens   \n",
       "1  Fidget Cube: A Vinyl Desk Toy   \n",
       "\n",
       "                                                url  number_of_tiers  \\\n",
       "0               /projects/elanlee/exploding-kittens                4   \n",
       "1  /projects/antsylabs/fidget-cube-a-vinyl-desk-toy               12   \n",
       "\n",
       "   percent_overfunded State  \n",
       "0            878.2571    CA  \n",
       "1            431.0460    CO  "
      ]
     },
     "execution_count": 397,
     "metadata": {},
     "output_type": "execute_result"
    }
   ],
   "source": [
    "ksmb.head(2)"
   ]
  },
  {
   "cell_type": "code",
   "execution_count": 398,
   "metadata": {
    "collapsed": false
   },
   "outputs": [
    {
     "data": {
      "text/html": [
       "<div>\n",
       "<table border=\"1\" class=\"dataframe\">\n",
       "  <thead>\n",
       "    <tr style=\"text-align: right;\">\n",
       "      <th></th>\n",
       "      <th>pledged_amount</th>\n",
       "      <th>goal</th>\n",
       "      <th>backers</th>\n",
       "      <th>number_of_tiers</th>\n",
       "      <th>percent_overfunded</th>\n",
       "    </tr>\n",
       "  </thead>\n",
       "  <tbody>\n",
       "    <tr>\n",
       "      <th>count</th>\n",
       "      <td>3.994000e+03</td>\n",
       "      <td>3.994000e+03</td>\n",
       "      <td>3994.000000</td>\n",
       "      <td>3994.000000</td>\n",
       "      <td>3994.000000</td>\n",
       "    </tr>\n",
       "    <tr>\n",
       "      <th>mean</th>\n",
       "      <td>2.900721e+05</td>\n",
       "      <td>6.168732e+04</td>\n",
       "      <td>3584.349775</td>\n",
       "      <td>14.369054</td>\n",
       "      <td>70.206361</td>\n",
       "    </tr>\n",
       "    <tr>\n",
       "      <th>std</th>\n",
       "      <td>7.124651e+05</td>\n",
       "      <td>1.267112e+05</td>\n",
       "      <td>7321.372971</td>\n",
       "      <td>9.383154</td>\n",
       "      <td>2015.758049</td>\n",
       "    </tr>\n",
       "    <tr>\n",
       "      <th>min</th>\n",
       "      <td>1.925000e+03</td>\n",
       "      <td>1.000000e+00</td>\n",
       "      <td>1109.000000</td>\n",
       "      <td>1.000000</td>\n",
       "      <td>1.000000</td>\n",
       "    </tr>\n",
       "    <tr>\n",
       "      <th>25%</th>\n",
       "      <td>6.765900e+04</td>\n",
       "      <td>1.300000e+04</td>\n",
       "      <td>1407.000000</td>\n",
       "      <td>8.000000</td>\n",
       "      <td>2.010495</td>\n",
       "    </tr>\n",
       "    <tr>\n",
       "      <th>50%</th>\n",
       "      <td>1.203340e+05</td>\n",
       "      <td>3.000000e+04</td>\n",
       "      <td>1946.000000</td>\n",
       "      <td>12.000000</td>\n",
       "      <td>4.584257</td>\n",
       "    </tr>\n",
       "    <tr>\n",
       "      <th>75%</th>\n",
       "      <td>2.592612e+05</td>\n",
       "      <td>6.000000e+04</td>\n",
       "      <td>3369.500000</td>\n",
       "      <td>18.000000</td>\n",
       "      <td>10.517017</td>\n",
       "    </tr>\n",
       "    <tr>\n",
       "      <th>max</th>\n",
       "      <td>2.033899e+07</td>\n",
       "      <td>2.000000e+06</td>\n",
       "      <td>219382.000000</td>\n",
       "      <td>98.000000</td>\n",
       "      <td>104277.000000</td>\n",
       "    </tr>\n",
       "  </tbody>\n",
       "</table>\n",
       "</div>"
      ],
      "text/plain": [
       "       pledged_amount          goal        backers  number_of_tiers  \\\n",
       "count    3.994000e+03  3.994000e+03    3994.000000      3994.000000   \n",
       "mean     2.900721e+05  6.168732e+04    3584.349775        14.369054   \n",
       "std      7.124651e+05  1.267112e+05    7321.372971         9.383154   \n",
       "min      1.925000e+03  1.000000e+00    1109.000000         1.000000   \n",
       "25%      6.765900e+04  1.300000e+04    1407.000000         8.000000   \n",
       "50%      1.203340e+05  3.000000e+04    1946.000000        12.000000   \n",
       "75%      2.592612e+05  6.000000e+04    3369.500000        18.000000   \n",
       "max      2.033899e+07  2.000000e+06  219382.000000        98.000000   \n",
       "\n",
       "       percent_overfunded  \n",
       "count         3994.000000  \n",
       "mean            70.206361  \n",
       "std           2015.758049  \n",
       "min              1.000000  \n",
       "25%              2.010495  \n",
       "50%              4.584257  \n",
       "75%             10.517017  \n",
       "max         104277.000000  "
      ]
     },
     "execution_count": 398,
     "metadata": {},
     "output_type": "execute_result"
    }
   ],
   "source": [
    "ksmb.describe()"
   ]
  },
  {
   "cell_type": "code",
   "execution_count": 400,
   "metadata": {
    "collapsed": false
   },
   "outputs": [
    {
     "data": {
      "text/plain": [
       "Product Design    772\n",
       "Tabletop Games    741\n",
       "Video Games       524\n",
       "Hardware          182\n",
       "Technology        152\n",
       "Documentary       123\n",
       "Gadgets           121\n",
       "Design             99\n",
       "Comics             77\n",
       "Wearables          64\n",
       "Name: category, dtype: int64"
      ]
     },
     "execution_count": 400,
     "metadata": {},
     "output_type": "execute_result"
    }
   ],
   "source": [
    "# The top 10 categories by overall projects\n",
    "ksmb.category.value_counts(ascending = False)[0:10]"
   ]
  },
  {
   "cell_type": "code",
   "execution_count": 401,
   "metadata": {
    "collapsed": false
   },
   "outputs": [
    {
     "data": {
      "text/html": [
       "<div>\n",
       "<table border=\"1\" class=\"dataframe\">\n",
       "  <thead>\n",
       "    <tr style=\"text-align: right;\">\n",
       "      <th></th>\n",
       "      <th>pledged_amount</th>\n",
       "      <th>blurb</th>\n",
       "      <th>by</th>\n",
       "      <th>category</th>\n",
       "      <th>currency</th>\n",
       "      <th>goal</th>\n",
       "      <th>location</th>\n",
       "      <th>backers</th>\n",
       "      <th>backers_by_tier</th>\n",
       "      <th>pledge_tier</th>\n",
       "      <th>title</th>\n",
       "      <th>url</th>\n",
       "      <th>number_of_tiers</th>\n",
       "      <th>percent_overfunded</th>\n",
       "      <th>State</th>\n",
       "    </tr>\n",
       "  </thead>\n",
       "  <tbody>\n",
       "    <tr>\n",
       "      <th>5</th>\n",
       "      <td>20338986.0</td>\n",
       "      <td>\\r\\nColor e-paper smartwatch with up to 7 days...</td>\n",
       "      <td>Pebble Technology</td>\n",
       "      <td>Product Design</td>\n",
       "      <td>usd</td>\n",
       "      <td>500000.0</td>\n",
       "      <td>Palo Alto, CA</td>\n",
       "      <td>78471</td>\n",
       "      <td>[10000.0, 22991.0, 5278.0, 19999.0, 6041.0, 47...</td>\n",
       "      <td>[159.0, 179.0, 179.0, 250.0, 250.0, 338.0, 400...</td>\n",
       "      <td>Pebble Time - Awesome Smartwatch, No Compromises</td>\n",
       "      <td>/projects/597507018/pebble-time-awesome-smartw...</td>\n",
       "      <td>12</td>\n",
       "      <td>40.677972</td>\n",
       "      <td>CA</td>\n",
       "    </tr>\n",
       "    <tr>\n",
       "      <th>11</th>\n",
       "      <td>10266845.0</td>\n",
       "      <td>\\r\\nPebble is a customizable watch. Download n...</td>\n",
       "      <td>Pebble Technology</td>\n",
       "      <td>Product Design</td>\n",
       "      <td>usd</td>\n",
       "      <td>100000.0</td>\n",
       "      <td>Palo Alto, CA</td>\n",
       "      <td>68929</td>\n",
       "      <td>[2615.0, 200.0, 40799.0, 14350.0, 3800.0, 100....</td>\n",
       "      <td>[1.0, 99.0, 115.0, 125.0, 220.0, 235.0, 240.0,...</td>\n",
       "      <td>Pebble: E-Paper Watch for iPhone and Android</td>\n",
       "      <td>/projects/597507018/pebble-e-paper-watch-for-i...</td>\n",
       "      <td>11</td>\n",
       "      <td>102.668450</td>\n",
       "      <td>CA</td>\n",
       "    </tr>\n",
       "    <tr>\n",
       "      <th>13</th>\n",
       "      <td>12779843.0</td>\n",
       "      <td>\\r\\nTwo affordable, heart rate-enabled smartwa...</td>\n",
       "      <td>Pebble Technology</td>\n",
       "      <td>Product Design</td>\n",
       "      <td>usd</td>\n",
       "      <td>1000000.0</td>\n",
       "      <td>Redwood City, CA</td>\n",
       "      <td>66673</td>\n",
       "      <td>[5000.0, 2798.0, 8546.0, 234.0, 679.0, 9996.0,...</td>\n",
       "      <td>[69.0, 79.0, 99.0, 109.0, 149.0, 169.0, 169.0,...</td>\n",
       "      <td>Pebble 2, Time 2 + All-New Pebble Core</td>\n",
       "      <td>/projects/597507018/pebble-2-time-2-and-core-a...</td>\n",
       "      <td>20</td>\n",
       "      <td>12.779843</td>\n",
       "      <td>CA</td>\n",
       "    </tr>\n",
       "    <tr>\n",
       "      <th>17</th>\n",
       "      <td>13285226.0</td>\n",
       "      <td>\\r\\nThe COOLEST is a portable party disguised ...</td>\n",
       "      <td>Ryan Grepper</td>\n",
       "      <td>Product Design</td>\n",
       "      <td>usd</td>\n",
       "      <td>50000.0</td>\n",
       "      <td>Portland, OR</td>\n",
       "      <td>62642</td>\n",
       "      <td>[1078.0, 311.0, 133.0, 50.0, 20.0, 50213.0, 70...</td>\n",
       "      <td>[5.0, 25.0, 55.0, 165.0, 165.0, 185.0, 185.0, ...</td>\n",
       "      <td>COOLEST COOLER: 21st Century Cooler that's Act...</td>\n",
       "      <td>/projects/ryangrepper/coolest-cooler-21st-cent...</td>\n",
       "      <td>11</td>\n",
       "      <td>265.704520</td>\n",
       "      <td>OR</td>\n",
       "    </tr>\n",
       "  </tbody>\n",
       "</table>\n",
       "</div>"
      ],
      "text/plain": [
       "    pledged_amount                                              blurb  \\\n",
       "5       20338986.0  \\r\\nColor e-paper smartwatch with up to 7 days...   \n",
       "11      10266845.0  \\r\\nPebble is a customizable watch. Download n...   \n",
       "13      12779843.0  \\r\\nTwo affordable, heart rate-enabled smartwa...   \n",
       "17      13285226.0  \\r\\nThe COOLEST is a portable party disguised ...   \n",
       "\n",
       "                   by        category currency       goal          location  \\\n",
       "5   Pebble Technology  Product Design      usd   500000.0     Palo Alto, CA   \n",
       "11  Pebble Technology  Product Design      usd   100000.0     Palo Alto, CA   \n",
       "13  Pebble Technology  Product Design      usd  1000000.0  Redwood City, CA   \n",
       "17       Ryan Grepper  Product Design      usd    50000.0      Portland, OR   \n",
       "\n",
       "    backers                                    backers_by_tier  \\\n",
       "5     78471  [10000.0, 22991.0, 5278.0, 19999.0, 6041.0, 47...   \n",
       "11    68929  [2615.0, 200.0, 40799.0, 14350.0, 3800.0, 100....   \n",
       "13    66673  [5000.0, 2798.0, 8546.0, 234.0, 679.0, 9996.0,...   \n",
       "17    62642  [1078.0, 311.0, 133.0, 50.0, 20.0, 50213.0, 70...   \n",
       "\n",
       "                                          pledge_tier  \\\n",
       "5   [159.0, 179.0, 179.0, 250.0, 250.0, 338.0, 400...   \n",
       "11  [1.0, 99.0, 115.0, 125.0, 220.0, 235.0, 240.0,...   \n",
       "13  [69.0, 79.0, 99.0, 109.0, 149.0, 169.0, 169.0,...   \n",
       "17  [5.0, 25.0, 55.0, 165.0, 165.0, 185.0, 185.0, ...   \n",
       "\n",
       "                                                title  \\\n",
       "5    Pebble Time - Awesome Smartwatch, No Compromises   \n",
       "11       Pebble: E-Paper Watch for iPhone and Android   \n",
       "13             Pebble 2, Time 2 + All-New Pebble Core   \n",
       "17  COOLEST COOLER: 21st Century Cooler that's Act...   \n",
       "\n",
       "                                                  url  number_of_tiers  \\\n",
       "5   /projects/597507018/pebble-time-awesome-smartw...               12   \n",
       "11  /projects/597507018/pebble-e-paper-watch-for-i...               11   \n",
       "13  /projects/597507018/pebble-2-time-2-and-core-a...               20   \n",
       "17  /projects/ryangrepper/coolest-cooler-21st-cent...               11   \n",
       "\n",
       "    percent_overfunded State  \n",
       "5            40.677972    CA  \n",
       "11          102.668450    CA  \n",
       "13           12.779843    CA  \n",
       "17          265.704520    OR  "
      ]
     },
     "execution_count": 401,
     "metadata": {},
     "output_type": "execute_result"
    }
   ],
   "source": [
    "# What are some of the outliers? Start with projects over $10 mil\n",
    "\n",
    "ksmb[ksmb.pledged_amount > 10000000]"
   ]
  },
  {
   "cell_type": "code",
   "execution_count": 166,
   "metadata": {
    "collapsed": false
   },
   "outputs": [
    {
     "data": {
      "text/plain": [
       "pledged_amount        float64\n",
       "blurb                  object\n",
       "by                     object\n",
       "category               object\n",
       "currency               object\n",
       "goal                  float64\n",
       "location               object\n",
       "backers                 int64\n",
       "backers_by_tier        object\n",
       "pledge_tier            object\n",
       "title                  object\n",
       "url                    object\n",
       "number_of_tiers         int64\n",
       "percent_overfunded    float64\n",
       "State                  object\n",
       "dtype: object"
      ]
     },
     "execution_count": 166,
     "metadata": {},
     "output_type": "execute_result"
    }
   ],
   "source": [
    "ksmb.dtypes"
   ]
  },
  {
   "cell_type": "code",
   "execution_count": 402,
   "metadata": {
    "collapsed": false
   },
   "outputs": [
    {
     "name": "stdout",
     "output_type": "stream",
     "text": [
      "(3994, 15)\n",
      "\n",
      "<class 'pandas.core.frame.DataFrame'>\n",
      "Int64Index: 3994 entries, 0 to 3999\n",
      "Data columns (total 15 columns):\n",
      "pledged_amount        3994 non-null float64\n",
      "blurb                 3994 non-null object\n",
      "by                    3994 non-null object\n",
      "category              3994 non-null object\n",
      "currency              3994 non-null object\n",
      "goal                  3994 non-null float64\n",
      "location              3994 non-null object\n",
      "backers               3994 non-null int64\n",
      "backers_by_tier       3994 non-null object\n",
      "pledge_tier           3994 non-null object\n",
      "title                 3994 non-null object\n",
      "url                   3994 non-null object\n",
      "number_of_tiers       3994 non-null int64\n",
      "percent_overfunded    3994 non-null float64\n",
      "State                 3994 non-null object\n",
      "dtypes: float64(3), int64(2), object(10)\n",
      "memory usage: 499.2+ KB\n"
     ]
    }
   ],
   "source": [
    "# Check the shape, and if there are any null values in any of the columns\n",
    "print(ksmb.shape)\n",
    "print()\n",
    "ksmb.info()"
   ]
  },
  {
   "cell_type": "code",
   "execution_count": 404,
   "metadata": {
    "collapsed": false
   },
   "outputs": [
    {
     "data": {
      "image/png": "[encoded data removed]",
      "text/plain": [
       "<matplotlib.figure.Figure at 0x1d3dc7ea7f0>"
      ]
     },
     "metadata": {},
     "output_type": "display_data"
    }
   ],
   "source": [
    "# Look at the overall distribution\n",
    "\n",
    "ksmb.pledged_amount.plot(kind = 'hist', bins = 15);"
   ]
  },
  {
   "cell_type": "code",
   "execution_count": 405,
   "metadata": {
    "collapsed": false,
    "scrolled": true
   },
   "outputs": [
    {
     "data": {
      "image/png": "[encoded data removed]",
      "text/plain": [
       "<matplotlib.figure.Figure at 0x1d3dc3efa58>"
      ]
     },
     "metadata": {},
     "output_type": "display_data"
    }
   ],
   "source": [
    "# Box plot\n",
    "ksmb.plot(kind = 'box');"
   ]
  },
  {
   "cell_type": "markdown",
   "metadata": {},
   "source": [
    "# Create some visualizations of the data"
   ]
  },
  {
   "cell_type": "code",
   "execution_count": 170,
   "metadata": {
    "collapsed": false
   },
   "outputs": [
    {
     "data": {
      "image/png": "[encoded data removed]",
      "text/plain": [
       "<matplotlib.figure.Figure at 0x1d3dc69d160>"
      ]
     },
     "metadata": {},
     "output_type": "display_data"
    }
   ],
   "source": [
    "# graph some exploratory graphs\n",
    "amt_pledged = ksmb['pledged_amount'].groupby(ksmb['category'])\n",
    "pledged_by_cat = amt_pledged.sum().sort_values(ascending = False)[0:10]\n",
    "\n",
    "graph1 = pledged_by_cat.plot(kind = 'bar', figsize = (12,6))\n",
    "graph1.set_title('Total Amount Pledged by Category', fontsize = 20)\n",
    "graph1.set_xlabel('Category', fontsize = 16)\n",
    "graph1.set_ylabel('Amount Pledged', fontsize = 16);\n"
   ]
  },
  {
   "cell_type": "code",
   "execution_count": 406,
   "metadata": {
    "collapsed": false
   },
   "outputs": [
    {
     "data": {
      "image/png": "[encoded data removed]",
      "text/plain": [
       "<matplotlib.figure.Figure at 0x1d3e16efa90>"
      ]
     },
     "metadata": {},
     "output_type": "display_data"
    }
   ],
   "source": [
    "amt_pledged = ksmb['pledged_amount'].groupby(ksmb['location'])\n",
    "pledged_by_city = amt_pledged.sum().sort_values(ascending = False)[0:10]\n",
    "\n",
    "graph1 = pledged_by_city.plot(kind = 'bar', figsize = (12,6))\n",
    "graph1.set_title('Total Amount Pledged by City', fontsize = 20)\n",
    "graph1.set_xlabel('City', fontsize = 16)\n",
    "graph1.set_ylabel('Amount Pledged', fontsize = 16);"
   ]
  },
  {
   "cell_type": "code",
   "execution_count": 407,
   "metadata": {
    "collapsed": false
   },
   "outputs": [
    {
     "data": {
      "image/png": "[encoded data removed]",
      "text/plain": [
       "<matplotlib.figure.Figure at 0x1d3dc7eaeb8>"
      ]
     },
     "metadata": {},
     "output_type": "display_data"
    }
   ],
   "source": [
    "# Add a few more initial line regressions with the other numeric series. \n",
    "\n",
    "sns.lmplot(x = 'backers', y = 'pledged_amount', data = ksmb, size = 8);"
   ]
  },
  {
   "cell_type": "code",
   "execution_count": 409,
   "metadata": {
    "collapsed": false
   },
   "outputs": [
    {
     "data": {
      "text/html": [
       "<div>\n",
       "<table border=\"1\" class=\"dataframe\">\n",
       "  <thead>\n",
       "    <tr style=\"text-align: right;\">\n",
       "      <th></th>\n",
       "      <th>pledged_amount</th>\n",
       "      <th>goal</th>\n",
       "      <th>backers</th>\n",
       "      <th>number_of_tiers</th>\n",
       "      <th>percent_overfunded</th>\n",
       "    </tr>\n",
       "  </thead>\n",
       "  <tbody>\n",
       "    <tr>\n",
       "      <th>pledged_amount</th>\n",
       "      <td>1.000000</td>\n",
       "      <td>0.436369</td>\n",
       "      <td>0.717901</td>\n",
       "      <td>0.073170</td>\n",
       "      <td>-0.003540</td>\n",
       "    </tr>\n",
       "    <tr>\n",
       "      <th>goal</th>\n",
       "      <td>0.436369</td>\n",
       "      <td>1.000000</td>\n",
       "      <td>0.444714</td>\n",
       "      <td>0.245191</td>\n",
       "      <td>-0.015824</td>\n",
       "    </tr>\n",
       "    <tr>\n",
       "      <th>backers</th>\n",
       "      <td>0.717901</td>\n",
       "      <td>0.444714</td>\n",
       "      <td>1.000000</td>\n",
       "      <td>0.085136</td>\n",
       "      <td>0.004176</td>\n",
       "    </tr>\n",
       "    <tr>\n",
       "      <th>number_of_tiers</th>\n",
       "      <td>0.073170</td>\n",
       "      <td>0.245191</td>\n",
       "      <td>0.085136</td>\n",
       "      <td>1.000000</td>\n",
       "      <td>-0.018696</td>\n",
       "    </tr>\n",
       "    <tr>\n",
       "      <th>percent_overfunded</th>\n",
       "      <td>-0.003540</td>\n",
       "      <td>-0.015824</td>\n",
       "      <td>0.004176</td>\n",
       "      <td>-0.018696</td>\n",
       "      <td>1.000000</td>\n",
       "    </tr>\n",
       "  </tbody>\n",
       "</table>\n",
       "</div>"
      ],
      "text/plain": [
       "                    pledged_amount      goal   backers  number_of_tiers  \\\n",
       "pledged_amount            1.000000  0.436369  0.717901         0.073170   \n",
       "goal                      0.436369  1.000000  0.444714         0.245191   \n",
       "backers                   0.717901  0.444714  1.000000         0.085136   \n",
       "number_of_tiers           0.073170  0.245191  0.085136         1.000000   \n",
       "percent_overfunded       -0.003540 -0.015824  0.004176        -0.018696   \n",
       "\n",
       "                    percent_overfunded  \n",
       "pledged_amount               -0.003540  \n",
       "goal                         -0.015824  \n",
       "backers                       0.004176  \n",
       "number_of_tiers              -0.018696  \n",
       "percent_overfunded            1.000000  "
      ]
     },
     "execution_count": 409,
     "metadata": {},
     "output_type": "execute_result"
    }
   ],
   "source": [
    "# Take a peek at the correlations to get an idea of how the variables may look in regression\n",
    "\n",
    "ksmb.corr()"
   ]
  },
  {
   "cell_type": "code",
   "execution_count": 410,
   "metadata": {
    "collapsed": false
   },
   "outputs": [
    {
     "data": {
      "text/plain": [
       "Product Design    772\n",
       "Tabletop Games    741\n",
       "Video Games       524\n",
       "Hardware          182\n",
       "Technology        152\n",
       "Documentary       123\n",
       "Gadgets           121\n",
       "Design             99\n",
       "Comics             77\n",
       "Wearables          64\n",
       "Name: category, dtype: int64"
      ]
     },
     "execution_count": 410,
     "metadata": {},
     "output_type": "execute_result"
    }
   ],
   "source": [
    "ksmb.category.value_counts(ascending = False)[0:10]"
   ]
  },
  {
   "cell_type": "code",
   "execution_count": 411,
   "metadata": {
    "collapsed": false
   },
   "outputs": [
    {
     "data": {
      "image/png": "[encoded data removed]",
      "text/plain": [
       "<matplotlib.figure.Figure at 0x1d3e17a4710>"
      ]
     },
     "metadata": {},
     "output_type": "display_data"
    }
   ],
   "source": [
    "# Number of backers by category \n",
    "\n",
    "backers = ksmb['backers'].groupby(ksmb['category'])\n",
    "backers_by_cat = backers.sum().sort_values(ascending=0)[0:10]\n",
    "\n",
    "\n",
    "ax = backers_by_cat.plot(kind=\"bar\", figsize = (12,6))\n",
    "ax.set_title(\"Backers by Categroy \\n (Top 10)\",fontsize = 20)\n",
    "ax.set_ylabel(\"Number of backers\",fontsize = 16)\n",
    "ax.set_xlabel(\"Category\",fontsize = 16)\n",
    "vals = ax.get_yticks()"
   ]
  },
  {
   "cell_type": "code",
   "execution_count": null,
   "metadata": {
    "collapsed": true
   },
   "outputs": [],
   "source": []
  },
  {
   "cell_type": "code",
   "execution_count": 412,
   "metadata": {
    "collapsed": false
   },
   "outputs": [
    {
     "data": {
      "image/png": "[encoded data removed]",
      "text/plain": [
       "<matplotlib.figure.Figure at 0x1d3dd3fb2e8>"
      ]
     },
     "metadata": {},
     "output_type": "display_data"
    }
   ],
   "source": [
    "# Number of backers by city.\n",
    "\n",
    "cities = ksmb['backers'].groupby(ksmb['location'])\n",
    "top_10_cities = cities.sum().sort_values(ascending=0)[0:10]\n",
    "\n",
    "ax = top_10_cities.plot(kind=\"bar\", figsize = (12,6))\n",
    "ax.set_title(\"Backers by Market \\n (Top 10 markets)\",fontsize = 20)\n",
    "ax.set_ylabel(\"Number of Backers\",fontsize = 16)\n",
    "ax.set_xlabel(\"City\",fontsize = 16)\n",
    "vals = ax.get_yticks()"
   ]
  },
  {
   "cell_type": "code",
   "execution_count": 413,
   "metadata": {
    "collapsed": false
   },
   "outputs": [
    {
     "data": {
      "image/png": "[encoded data removed]",
      "text/plain": [
       "<matplotlib.figure.Figure at 0x1d3dcf0e7b8>"
      ]
     },
     "metadata": {},
     "output_type": "display_data"
    }
   ],
   "source": [
    "# Can we do number of projects in each category by market? Show where certain categories are concentrated\n",
    "\n",
    "states = ksmb['backers'].groupby(ksmb['State'])\n",
    "top_10_states = states.sum().sort_values(ascending=0)[0:10]\n",
    "\n",
    "ax = top_10_states.plot(kind=\"bar\", figsize = (12,6))\n",
    "ax.set_title(\"Backers by State or Country \\n (Top 10 states)\", fontsize = 20)\n",
    "ax.set_ylabel(\"Number of Backers\", fontsize = 16)\n",
    "ax.set_xlabel(\"State\", fontsize = 16)\n",
    "vals = ax.get_yticks()"
   ]
  },
  {
   "cell_type": "markdown",
   "metadata": {},
   "source": [
    "# Analysis of Pledge Tiers"
   ]
  },
  {
   "cell_type": "code",
   "execution_count": 414,
   "metadata": {
    "collapsed": false
   },
   "outputs": [],
   "source": [
    "# Some analysis on tiers\n",
    "contribution_by_tier = pd.Series()\n",
    "for i in range(len(ksmb.index)):\n",
    "    a = np.array(ksmb['pledge_tier'].iloc[i])\n",
    "    b = np.array(ksmb['backers_by_tier'].iloc[i])\n",
    "    contrib = pd.Series(list([a*b*100/np.sum(a*b)]))\n",
    "    contribution_by_tier = contribution_by_tier.append(contrib)"
   ]
  },
  {
   "cell_type": "code",
   "execution_count": 415,
   "metadata": {
    "collapsed": false
   },
   "outputs": [
    {
     "data": {
      "text/plain": [
       "0    [4.17065104387, 95.526738029, 0.268987490737, ...\n",
       "1    [0.0134269814169, 0.0596376078163, 13.94475512...\n",
       "2    [2.05450360916, 3.00094152108, 4.77874254629, ...\n",
       "3    [0.109386899141, 1.55164340092, 5.3003276449, ...\n",
       "4    [22.7184134796, 23.3467164929, 2.06591337695, ...\n",
       "dtype: object"
      ]
     },
     "execution_count": 415,
     "metadata": {},
     "output_type": "execute_result"
    }
   ],
   "source": [
    "contribution_by_tier.reset_index(drop=True,inplace=True)\n",
    "contribution_by_tier.head()"
   ]
  },
  {
   "cell_type": "code",
   "execution_count": 416,
   "metadata": {
    "collapsed": false
   },
   "outputs": [
    {
     "data": {
      "text/html": [
       "<div>\n",
       "<table border=\"1\" class=\"dataframe\">\n",
       "  <thead>\n",
       "    <tr style=\"text-align: right;\">\n",
       "      <th></th>\n",
       "      <th>pledged_amount</th>\n",
       "      <th>blurb</th>\n",
       "      <th>by</th>\n",
       "      <th>category</th>\n",
       "      <th>currency</th>\n",
       "      <th>goal</th>\n",
       "      <th>location</th>\n",
       "      <th>backers</th>\n",
       "      <th>backers_by_tier</th>\n",
       "      <th>pledge_tier</th>\n",
       "      <th>title</th>\n",
       "      <th>url</th>\n",
       "      <th>number_of_tiers</th>\n",
       "      <th>percent_overfunded</th>\n",
       "      <th>State</th>\n",
       "      <th>percent_contribution_by_tier</th>\n",
       "    </tr>\n",
       "  </thead>\n",
       "  <tbody>\n",
       "    <tr>\n",
       "      <th>0</th>\n",
       "      <td>8782571.0</td>\n",
       "      <td>\\r\\nThis is a card game for people who are int...</td>\n",
       "      <td>Elan Lee</td>\n",
       "      <td>Tabletop Games</td>\n",
       "      <td>usd</td>\n",
       "      <td>10000.0</td>\n",
       "      <td>Los Angeles, CA</td>\n",
       "      <td>219382</td>\n",
       "      <td>[15505.0, 202934.0, 200.0, 5.0]</td>\n",
       "      <td>[20.0, 35.0, 100.0, 500.0]</td>\n",
       "      <td>Exploding Kittens</td>\n",
       "      <td>/projects/elanlee/exploding-kittens</td>\n",
       "      <td>4</td>\n",
       "      <td>878.257100</td>\n",
       "      <td>CA</td>\n",
       "      <td>[4.17065104387, 95.526738029, 0.268987490737, ...</td>\n",
       "    </tr>\n",
       "    <tr>\n",
       "      <th>1</th>\n",
       "      <td>6465690.0</td>\n",
       "      <td>\\r\\nAn unusually addicting, high-quality desk ...</td>\n",
       "      <td>Matthew and Mark McLachlan</td>\n",
       "      <td>Product Design</td>\n",
       "      <td>usd</td>\n",
       "      <td>15000.0</td>\n",
       "      <td>Denver, CO</td>\n",
       "      <td>154926</td>\n",
       "      <td>[788.0, 250.0, 43073.0, 21796.0, 41727.0, 2162...</td>\n",
       "      <td>[1.0, 14.0, 19.0, 19.0, 35.0, 35.0, 79.0, 79.0...</td>\n",
       "      <td>Fidget Cube: A Vinyl Desk Toy</td>\n",
       "      <td>/projects/antsylabs/fidget-cube-a-vinyl-desk-toy</td>\n",
       "      <td>12</td>\n",
       "      <td>431.046000</td>\n",
       "      <td>CO</td>\n",
       "      <td>[0.0134269814169, 0.0596376078163, 13.94475512...</td>\n",
       "    </tr>\n",
       "    <tr>\n",
       "      <th>2</th>\n",
       "      <td>5408916.0</td>\n",
       "      <td>\\r\\nBring Reading Rainbow’s library of interac...</td>\n",
       "      <td>LeVar Burton &amp; Reading Rainbow</td>\n",
       "      <td>Web</td>\n",
       "      <td>usd</td>\n",
       "      <td>1000000.0</td>\n",
       "      <td>Los Angeles, CA</td>\n",
       "      <td>105857</td>\n",
       "      <td>[19639.0, 14343.0, 9136.0, 2259.0, 5666.0, 245...</td>\n",
       "      <td>[5.0, 10.0, 25.0, 30.0, 35.0, 50.0, 75.0, 100....</td>\n",
       "      <td>Bring Reading Rainbow Back for Every Child, Ev...</td>\n",
       "      <td>/projects/readingrainbow/bring-reading-rainbow...</td>\n",
       "      <td>64</td>\n",
       "      <td>5.408916</td>\n",
       "      <td>CA</td>\n",
       "      <td>[2.05450360916, 3.00094152108, 4.77874254629, ...</td>\n",
       "    </tr>\n",
       "    <tr>\n",
       "      <th>3</th>\n",
       "      <td>5702153.0</td>\n",
       "      <td>\\r\\nUPDATED: This is it. We're making a Veroni...</td>\n",
       "      <td>Rob Thomas</td>\n",
       "      <td>Narrative Film</td>\n",
       "      <td>usd</td>\n",
       "      <td>2000000.0</td>\n",
       "      <td>San Diego, CA</td>\n",
       "      <td>91585</td>\n",
       "      <td>[5938.0, 8423.0, 11509.0, 22997.0, 23227.0, 18...</td>\n",
       "      <td>[1.0, 10.0, 25.0, 35.0, 50.0, 75.0, 100.0, 150...</td>\n",
       "      <td>The Veronica Mars Movie Project</td>\n",
       "      <td>/projects/559914737/the-veronica-mars-movie-pr...</td>\n",
       "      <td>32</td>\n",
       "      <td>2.851077</td>\n",
       "      <td>CA</td>\n",
       "      <td>[0.109386899141, 1.55164340092, 5.3003276449, ...</td>\n",
       "    </tr>\n",
       "    <tr>\n",
       "      <th>4</th>\n",
       "      <td>3336371.0</td>\n",
       "      <td>\\r\\nAn adventure game from Tim Schafer, Double...</td>\n",
       "      <td>Double Fine and 2 Player Productions</td>\n",
       "      <td>Video Games</td>\n",
       "      <td>usd</td>\n",
       "      <td>400000.0</td>\n",
       "      <td>San Francisco, CA</td>\n",
       "      <td>87142</td>\n",
       "      <td>[47946.0, 24636.0, 1090.0, 11530.0, 900.0, 148...</td>\n",
       "      <td>[15.0, 30.0, 60.0, 100.0, 250.0, 500.0, 1000.0...</td>\n",
       "      <td>Double Fine Adventure</td>\n",
       "      <td>/projects/doublefine/double-fine-adventure</td>\n",
       "      <td>9</td>\n",
       "      <td>8.340927</td>\n",
       "      <td>CA</td>\n",
       "      <td>[22.7184134796, 23.3467164929, 2.06591337695, ...</td>\n",
       "    </tr>\n",
       "  </tbody>\n",
       "</table>\n",
       "</div>"
      ],
      "text/plain": [
       "   pledged_amount                                              blurb  \\\n",
       "0       8782571.0  \\r\\nThis is a card game for people who are int...   \n",
       "1       6465690.0  \\r\\nAn unusually addicting, high-quality desk ...   \n",
       "2       5408916.0  \\r\\nBring Reading Rainbow’s library of interac...   \n",
       "3       5702153.0  \\r\\nUPDATED: This is it. We're making a Veroni...   \n",
       "4       3336371.0  \\r\\nAn adventure game from Tim Schafer, Double...   \n",
       "\n",
       "                                     by        category currency       goal  \\\n",
       "0                              Elan Lee  Tabletop Games      usd    10000.0   \n",
       "1            Matthew and Mark McLachlan  Product Design      usd    15000.0   \n",
       "2        LeVar Burton & Reading Rainbow             Web      usd  1000000.0   \n",
       "3                            Rob Thomas  Narrative Film      usd  2000000.0   \n",
       "4  Double Fine and 2 Player Productions     Video Games      usd   400000.0   \n",
       "\n",
       "            location  backers  \\\n",
       "0    Los Angeles, CA   219382   \n",
       "1         Denver, CO   154926   \n",
       "2    Los Angeles, CA   105857   \n",
       "3      San Diego, CA    91585   \n",
       "4  San Francisco, CA    87142   \n",
       "\n",
       "                                     backers_by_tier  \\\n",
       "0                    [15505.0, 202934.0, 200.0, 5.0]   \n",
       "1  [788.0, 250.0, 43073.0, 21796.0, 41727.0, 2162...   \n",
       "2  [19639.0, 14343.0, 9136.0, 2259.0, 5666.0, 245...   \n",
       "3  [5938.0, 8423.0, 11509.0, 22997.0, 23227.0, 18...   \n",
       "4  [47946.0, 24636.0, 1090.0, 11530.0, 900.0, 148...   \n",
       "\n",
       "                                         pledge_tier  \\\n",
       "0                         [20.0, 35.0, 100.0, 500.0]   \n",
       "1  [1.0, 14.0, 19.0, 19.0, 35.0, 35.0, 79.0, 79.0...   \n",
       "2  [5.0, 10.0, 25.0, 30.0, 35.0, 50.0, 75.0, 100....   \n",
       "3  [1.0, 10.0, 25.0, 35.0, 50.0, 75.0, 100.0, 150...   \n",
       "4  [15.0, 30.0, 60.0, 100.0, 250.0, 500.0, 1000.0...   \n",
       "\n",
       "                                               title  \\\n",
       "0                                  Exploding Kittens   \n",
       "1                      Fidget Cube: A Vinyl Desk Toy   \n",
       "2  Bring Reading Rainbow Back for Every Child, Ev...   \n",
       "3                    The Veronica Mars Movie Project   \n",
       "4                              Double Fine Adventure   \n",
       "\n",
       "                                                 url  number_of_tiers  \\\n",
       "0                /projects/elanlee/exploding-kittens                4   \n",
       "1   /projects/antsylabs/fidget-cube-a-vinyl-desk-toy               12   \n",
       "2  /projects/readingrainbow/bring-reading-rainbow...               64   \n",
       "3  /projects/559914737/the-veronica-mars-movie-pr...               32   \n",
       "4         /projects/doublefine/double-fine-adventure                9   \n",
       "\n",
       "   percent_overfunded State                       percent_contribution_by_tier  \n",
       "0          878.257100    CA  [4.17065104387, 95.526738029, 0.268987490737, ...  \n",
       "1          431.046000    CO  [0.0134269814169, 0.0596376078163, 13.94475512...  \n",
       "2            5.408916    CA  [2.05450360916, 3.00094152108, 4.77874254629, ...  \n",
       "3            2.851077    CA  [0.109386899141, 1.55164340092, 5.3003276449, ...  \n",
       "4            8.340927    CA  [22.7184134796, 23.3467164929, 2.06591337695, ...  "
      ]
     },
     "execution_count": 416,
     "metadata": {},
     "output_type": "execute_result"
    }
   ],
   "source": [
    "# Create the contribution percentage per tier\n",
    "ksmb['percent_contribution_by_tier'] = contribution_by_tier\n",
    "ksmb.head()"
   ]
  },
  {
   "cell_type": "code",
   "execution_count": 417,
   "metadata": {
    "collapsed": false
   },
   "outputs": [
    {
     "data": {
      "image/png": "[encoded data removed]",
      "text/plain": [
       "<matplotlib.figure.Figure at 0x1d3e16ee5c0>"
      ]
     },
     "metadata": {},
     "output_type": "display_data"
    }
   ],
   "source": [
    "dist = ksmb['number_of_tiers'].plot(kind=\"hist\", bins = 50, figsize = (12,6))\n",
    "dist.set_title(\"Distribution of Tiers\", fontsize = 20)\n",
    "dist.set_ylabel(\"Frequency\", fontsize = 16)\n",
    "dist.set_xlabel(\"Tiers\", fontsize = 16)\n",
    "vals = dist.get_yticks()\n",
    "\n",
    "#ksmb['number_of_tiers'].plot.hist(bins=50, figsize = (10,6), title = 'Distribtion of Tiers');"
   ]
  },
  {
   "cell_type": "code",
   "execution_count": 418,
   "metadata": {
    "collapsed": false
   },
   "outputs": [
    {
     "data": {
      "text/plain": [
       "1"
      ]
     },
     "execution_count": 418,
     "metadata": {},
     "output_type": "execute_result"
    }
   ],
   "source": [
    "# Get the tier number of the highest contributing tier for each project\n",
    "\n",
    "ksmb.percent_contribution_by_tier[0].argmax()"
   ]
  },
  {
   "cell_type": "code",
   "execution_count": 419,
   "metadata": {
    "collapsed": false
   },
   "outputs": [
    {
     "data": {
      "text/html": [
       "<div>\n",
       "<table border=\"1\" class=\"dataframe\">\n",
       "  <thead>\n",
       "    <tr style=\"text-align: right;\">\n",
       "      <th></th>\n",
       "      <th>pledged_amount</th>\n",
       "      <th>blurb</th>\n",
       "      <th>by</th>\n",
       "      <th>category</th>\n",
       "      <th>currency</th>\n",
       "      <th>goal</th>\n",
       "      <th>location</th>\n",
       "      <th>backers</th>\n",
       "      <th>backers_by_tier</th>\n",
       "      <th>pledge_tier</th>\n",
       "      <th>title</th>\n",
       "      <th>url</th>\n",
       "      <th>number_of_tiers</th>\n",
       "      <th>percent_overfunded</th>\n",
       "      <th>State</th>\n",
       "      <th>percent_contribution_by_tier</th>\n",
       "      <th>highest_contrib_tier</th>\n",
       "    </tr>\n",
       "  </thead>\n",
       "  <tbody>\n",
       "    <tr>\n",
       "      <th>0</th>\n",
       "      <td>8782571.0</td>\n",
       "      <td>\\r\\nThis is a card game for people who are int...</td>\n",
       "      <td>Elan Lee</td>\n",
       "      <td>Tabletop Games</td>\n",
       "      <td>usd</td>\n",
       "      <td>10000.0</td>\n",
       "      <td>Los Angeles, CA</td>\n",
       "      <td>219382</td>\n",
       "      <td>[15505.0, 202934.0, 200.0, 5.0]</td>\n",
       "      <td>[20.0, 35.0, 100.0, 500.0]</td>\n",
       "      <td>Exploding Kittens</td>\n",
       "      <td>/projects/elanlee/exploding-kittens</td>\n",
       "      <td>4</td>\n",
       "      <td>878.257100</td>\n",
       "      <td>CA</td>\n",
       "      <td>[4.17065104387, 95.526738029, 0.268987490737, ...</td>\n",
       "      <td>2</td>\n",
       "    </tr>\n",
       "    <tr>\n",
       "      <th>1</th>\n",
       "      <td>6465690.0</td>\n",
       "      <td>\\r\\nAn unusually addicting, high-quality desk ...</td>\n",
       "      <td>Matthew and Mark McLachlan</td>\n",
       "      <td>Product Design</td>\n",
       "      <td>usd</td>\n",
       "      <td>15000.0</td>\n",
       "      <td>Denver, CO</td>\n",
       "      <td>154926</td>\n",
       "      <td>[788.0, 250.0, 43073.0, 21796.0, 41727.0, 2162...</td>\n",
       "      <td>[1.0, 14.0, 19.0, 19.0, 35.0, 35.0, 79.0, 79.0...</td>\n",
       "      <td>Fidget Cube: A Vinyl Desk Toy</td>\n",
       "      <td>/projects/antsylabs/fidget-cube-a-vinyl-desk-toy</td>\n",
       "      <td>12</td>\n",
       "      <td>431.046000</td>\n",
       "      <td>CO</td>\n",
       "      <td>[0.0134269814169, 0.0596376078163, 13.94475512...</td>\n",
       "      <td>5</td>\n",
       "    </tr>\n",
       "    <tr>\n",
       "      <th>2</th>\n",
       "      <td>5408916.0</td>\n",
       "      <td>\\r\\nBring Reading Rainbow’s library of interac...</td>\n",
       "      <td>LeVar Burton &amp; Reading Rainbow</td>\n",
       "      <td>Web</td>\n",
       "      <td>usd</td>\n",
       "      <td>1000000.0</td>\n",
       "      <td>Los Angeles, CA</td>\n",
       "      <td>105857</td>\n",
       "      <td>[19639.0, 14343.0, 9136.0, 2259.0, 5666.0, 245...</td>\n",
       "      <td>[5.0, 10.0, 25.0, 30.0, 35.0, 50.0, 75.0, 100....</td>\n",
       "      <td>Bring Reading Rainbow Back for Every Child, Ev...</td>\n",
       "      <td>/projects/readingrainbow/bring-reading-rainbow...</td>\n",
       "      <td>64</td>\n",
       "      <td>5.408916</td>\n",
       "      <td>CA</td>\n",
       "      <td>[2.05450360916, 3.00094152108, 4.77874254629, ...</td>\n",
       "      <td>6</td>\n",
       "    </tr>\n",
       "    <tr>\n",
       "      <th>3</th>\n",
       "      <td>5702153.0</td>\n",
       "      <td>\\r\\nUPDATED: This is it. We're making a Veroni...</td>\n",
       "      <td>Rob Thomas</td>\n",
       "      <td>Narrative Film</td>\n",
       "      <td>usd</td>\n",
       "      <td>2000000.0</td>\n",
       "      <td>San Diego, CA</td>\n",
       "      <td>91585</td>\n",
       "      <td>[5938.0, 8423.0, 11509.0, 22997.0, 23227.0, 18...</td>\n",
       "      <td>[1.0, 10.0, 25.0, 35.0, 50.0, 75.0, 100.0, 150...</td>\n",
       "      <td>The Veronica Mars Movie Project</td>\n",
       "      <td>/projects/559914737/the-veronica-mars-movie-pr...</td>\n",
       "      <td>32</td>\n",
       "      <td>2.851077</td>\n",
       "      <td>CA</td>\n",
       "      <td>[0.109386899141, 1.55164340092, 5.3003276449, ...</td>\n",
       "      <td>5</td>\n",
       "    </tr>\n",
       "    <tr>\n",
       "      <th>4</th>\n",
       "      <td>3336371.0</td>\n",
       "      <td>\\r\\nAn adventure game from Tim Schafer, Double...</td>\n",
       "      <td>Double Fine and 2 Player Productions</td>\n",
       "      <td>Video Games</td>\n",
       "      <td>usd</td>\n",
       "      <td>400000.0</td>\n",
       "      <td>San Francisco, CA</td>\n",
       "      <td>87142</td>\n",
       "      <td>[47946.0, 24636.0, 1090.0, 11530.0, 900.0, 148...</td>\n",
       "      <td>[15.0, 30.0, 60.0, 100.0, 250.0, 500.0, 1000.0...</td>\n",
       "      <td>Double Fine Adventure</td>\n",
       "      <td>/projects/doublefine/double-fine-adventure</td>\n",
       "      <td>9</td>\n",
       "      <td>8.340927</td>\n",
       "      <td>CA</td>\n",
       "      <td>[22.7184134796, 23.3467164929, 2.06591337695, ...</td>\n",
       "      <td>4</td>\n",
       "    </tr>\n",
       "  </tbody>\n",
       "</table>\n",
       "</div>"
      ],
      "text/plain": [
       "   pledged_amount                                              blurb  \\\n",
       "0       8782571.0  \\r\\nThis is a card game for people who are int...   \n",
       "1       6465690.0  \\r\\nAn unusually addicting, high-quality desk ...   \n",
       "2       5408916.0  \\r\\nBring Reading Rainbow’s library of interac...   \n",
       "3       5702153.0  \\r\\nUPDATED: This is it. We're making a Veroni...   \n",
       "4       3336371.0  \\r\\nAn adventure game from Tim Schafer, Double...   \n",
       "\n",
       "                                     by        category currency       goal  \\\n",
       "0                              Elan Lee  Tabletop Games      usd    10000.0   \n",
       "1            Matthew and Mark McLachlan  Product Design      usd    15000.0   \n",
       "2        LeVar Burton & Reading Rainbow             Web      usd  1000000.0   \n",
       "3                            Rob Thomas  Narrative Film      usd  2000000.0   \n",
       "4  Double Fine and 2 Player Productions     Video Games      usd   400000.0   \n",
       "\n",
       "            location  backers  \\\n",
       "0    Los Angeles, CA   219382   \n",
       "1         Denver, CO   154926   \n",
       "2    Los Angeles, CA   105857   \n",
       "3      San Diego, CA    91585   \n",
       "4  San Francisco, CA    87142   \n",
       "\n",
       "                                     backers_by_tier  \\\n",
       "0                    [15505.0, 202934.0, 200.0, 5.0]   \n",
       "1  [788.0, 250.0, 43073.0, 21796.0, 41727.0, 2162...   \n",
       "2  [19639.0, 14343.0, 9136.0, 2259.0, 5666.0, 245...   \n",
       "3  [5938.0, 8423.0, 11509.0, 22997.0, 23227.0, 18...   \n",
       "4  [47946.0, 24636.0, 1090.0, 11530.0, 900.0, 148...   \n",
       "\n",
       "                                         pledge_tier  \\\n",
       "0                         [20.0, 35.0, 100.0, 500.0]   \n",
       "1  [1.0, 14.0, 19.0, 19.0, 35.0, 35.0, 79.0, 79.0...   \n",
       "2  [5.0, 10.0, 25.0, 30.0, 35.0, 50.0, 75.0, 100....   \n",
       "3  [1.0, 10.0, 25.0, 35.0, 50.0, 75.0, 100.0, 150...   \n",
       "4  [15.0, 30.0, 60.0, 100.0, 250.0, 500.0, 1000.0...   \n",
       "\n",
       "                                               title  \\\n",
       "0                                  Exploding Kittens   \n",
       "1                      Fidget Cube: A Vinyl Desk Toy   \n",
       "2  Bring Reading Rainbow Back for Every Child, Ev...   \n",
       "3                    The Veronica Mars Movie Project   \n",
       "4                              Double Fine Adventure   \n",
       "\n",
       "                                                 url  number_of_tiers  \\\n",
       "0                /projects/elanlee/exploding-kittens                4   \n",
       "1   /projects/antsylabs/fidget-cube-a-vinyl-desk-toy               12   \n",
       "2  /projects/readingrainbow/bring-reading-rainbow...               64   \n",
       "3  /projects/559914737/the-veronica-mars-movie-pr...               32   \n",
       "4         /projects/doublefine/double-fine-adventure                9   \n",
       "\n",
       "   percent_overfunded State  \\\n",
       "0          878.257100    CA   \n",
       "1          431.046000    CO   \n",
       "2            5.408916    CA   \n",
       "3            2.851077    CA   \n",
       "4            8.340927    CA   \n",
       "\n",
       "                        percent_contribution_by_tier  highest_contrib_tier  \n",
       "0  [4.17065104387, 95.526738029, 0.268987490737, ...                     2  \n",
       "1  [0.0134269814169, 0.0596376078163, 13.94475512...                     5  \n",
       "2  [2.05450360916, 3.00094152108, 4.77874254629, ...                     6  \n",
       "3  [0.109386899141, 1.55164340092, 5.3003276449, ...                     5  \n",
       "4  [22.7184134796, 23.3467164929, 2.06591337695, ...                     4  "
      ]
     },
     "execution_count": 419,
     "metadata": {},
     "output_type": "execute_result"
    }
   ],
   "source": [
    "ksmb['highest_contrib_tier'] = ksmb['percent_contribution_by_tier'].apply(np.argmax).apply(lambda x: x+1)\n",
    "ksmb.head()"
   ]
  },
  {
   "cell_type": "code",
   "execution_count": 420,
   "metadata": {
    "collapsed": false
   },
   "outputs": [
    {
     "data": {
      "image/png": "[encoded data removed]",
      "text/plain": [
       "<matplotlib.figure.Figure at 0x1d3dbe3d5f8>"
      ]
     },
     "metadata": {},
     "output_type": "display_data"
    }
   ],
   "source": [
    "fig = plt.figure(figsize=(14,8))\n",
    "sns.barplot(x=ksmb.groupby('highest_contrib_tier').count()['pledged_amount'].index,\n",
    "            y=ksmb.groupby('highest_contrib_tier').count()['pledged_amount']);\n"
   ]
  },
  {
   "cell_type": "code",
   "execution_count": 421,
   "metadata": {
    "collapsed": false
   },
   "outputs": [
    {
     "data": {
      "text/plain": [
       "5.0"
      ]
     },
     "execution_count": 421,
     "metadata": {},
     "output_type": "execute_result"
    }
   ],
   "source": [
    "ksmb.highest_contrib_tier.median()"
   ]
  },
  {
   "cell_type": "markdown",
   "metadata": {},
   "source": [
    "It seems that the highest contributing pledge tiers tend to hover around the median, which may suggest that when people don't have a reference of how much a product should cost, they might default to the median price available. Project's may be able to take advantage of this information when setting their pledge tiers."
   ]
  },
  {
   "cell_type": "markdown",
   "metadata": {},
   "source": [
    "# Linear Regression"
   ]
  },
  {
   "cell_type": "code",
   "execution_count": 424,
   "metadata": {
    "collapsed": false
   },
   "outputs": [
    {
     "data": {
      "text/html": [
       "<div>\n",
       "<table border=\"1\" class=\"dataframe\">\n",
       "  <thead>\n",
       "    <tr style=\"text-align: right;\">\n",
       "      <th></th>\n",
       "      <th>goal</th>\n",
       "      <th>backers</th>\n",
       "      <th>number_of_tiers</th>\n",
       "    </tr>\n",
       "  </thead>\n",
       "  <tbody>\n",
       "    <tr>\n",
       "      <th>0</th>\n",
       "      <td>10000.0</td>\n",
       "      <td>219382</td>\n",
       "      <td>4</td>\n",
       "    </tr>\n",
       "    <tr>\n",
       "      <th>1</th>\n",
       "      <td>15000.0</td>\n",
       "      <td>154926</td>\n",
       "      <td>12</td>\n",
       "    </tr>\n",
       "    <tr>\n",
       "      <th>2</th>\n",
       "      <td>1000000.0</td>\n",
       "      <td>105857</td>\n",
       "      <td>64</td>\n",
       "    </tr>\n",
       "    <tr>\n",
       "      <th>3</th>\n",
       "      <td>2000000.0</td>\n",
       "      <td>91585</td>\n",
       "      <td>32</td>\n",
       "    </tr>\n",
       "    <tr>\n",
       "      <th>4</th>\n",
       "      <td>400000.0</td>\n",
       "      <td>87142</td>\n",
       "      <td>9</td>\n",
       "    </tr>\n",
       "  </tbody>\n",
       "</table>\n",
       "</div>"
      ],
      "text/plain": [
       "        goal  backers  number_of_tiers\n",
       "0    10000.0   219382                4\n",
       "1    15000.0   154926               12\n",
       "2  1000000.0   105857               64\n",
       "3  2000000.0    91585               32\n",
       "4   400000.0    87142                9"
      ]
     },
     "execution_count": 424,
     "metadata": {},
     "output_type": "execute_result"
    }
   ],
   "source": [
    "# Drop the columns we don't need for the linear regression\n",
    "\n",
    "feature_cols = ksmb.drop(['pledged_amount','blurb','by','currency','location','url', 'category','title', 'backers_by_tier','pledge_tier','percent_overfunded', 'State','percent_contribution_by_tier', 'highest_contrib_tier'], axis=1)\n",
    "\n",
    "feature_cols.head()"
   ]
  },
  {
   "cell_type": "code",
   "execution_count": 425,
   "metadata": {
    "collapsed": false
   },
   "outputs": [],
   "source": [
    "X = feature_cols\n",
    "y = ksmb.pledged_amount"
   ]
  },
  {
   "cell_type": "code",
   "execution_count": 426,
   "metadata": {
    "collapsed": true
   },
   "outputs": [],
   "source": [
    "from sklearn.model_selection import train_test_split\n",
    "X_train, X_test, y_train, y_test = train_test_split(X, y, random_state=10, train_size = 0.7)"
   ]
  },
  {
   "cell_type": "code",
   "execution_count": 427,
   "metadata": {
    "collapsed": false
   },
   "outputs": [
    {
     "name": "stdout",
     "output_type": "stream",
     "text": [
      "(3994, 3)\n",
      "(2795, 3)\n",
      "(1199, 3)\n"
     ]
    }
   ],
   "source": [
    "print(X.shape)\n",
    "print(X_train.shape)\n",
    "print(X_test.shape)"
   ]
  },
  {
   "cell_type": "code",
   "execution_count": 428,
   "metadata": {
    "collapsed": false
   },
   "outputs": [
    {
     "data": {
      "text/plain": [
       "LinearRegression(copy_X=True, fit_intercept=True, n_jobs=1, normalize=False)"
      ]
     },
     "execution_count": 428,
     "metadata": {},
     "output_type": "execute_result"
    }
   ],
   "source": [
    "from sklearn.linear_model import LinearRegression\n",
    "lr = LinearRegression()\n",
    "lr.fit(X_train,y_train)"
   ]
  },
  {
   "cell_type": "code",
   "execution_count": null,
   "metadata": {
    "collapsed": false
   },
   "outputs": [],
   "source": []
  },
  {
   "cell_type": "code",
   "execution_count": 429,
   "metadata": {
    "collapsed": false
   },
   "outputs": [
    {
     "data": {
      "text/plain": [
       "array([  6.60167698e-01,   6.53421373e+01,  -9.15699117e+02])"
      ]
     },
     "execution_count": 429,
     "metadata": {},
     "output_type": "execute_result"
    }
   ],
   "source": [
    "y_pred = lr.predict(X)\n",
    "lr.coef_"
   ]
  },
  {
   "cell_type": "code",
   "execution_count": 430,
   "metadata": {
    "collapsed": false
   },
   "outputs": [
    {
     "data": {
      "text/plain": [
       "0.53194804434008769"
      ]
     },
     "execution_count": 430,
     "metadata": {},
     "output_type": "execute_result"
    }
   ],
   "source": [
    "from sklearn import metrics\n",
    "metrics.r2_score(y, y_pred)"
   ]
  },
  {
   "cell_type": "code",
   "execution_count": 431,
   "metadata": {
    "collapsed": false
   },
   "outputs": [
    {
     "name": "stdout",
     "output_type": "stream",
     "text": [
      "MSE: 237526735896.0\n",
      "RMSE: 487367.146919\n"
     ]
    }
   ],
   "source": [
    "print('MSE: ' + str(metrics.mean_squared_error(y, y_pred)))\n",
    "print('RMSE: '+ str(np.sqrt(metrics.mean_squared_error(y, y_pred))))"
   ]
  },
  {
   "cell_type": "code",
   "execution_count": 432,
   "metadata": {
    "collapsed": false
   },
   "outputs": [
    {
     "data": {
      "text/plain": [
       "290072.13895843766"
      ]
     },
     "execution_count": 432,
     "metadata": {},
     "output_type": "execute_result"
    }
   ],
   "source": [
    "ksmb.pledged_amount.mean()"
   ]
  },
  {
   "cell_type": "code",
   "execution_count": 433,
   "metadata": {
    "collapsed": false
   },
   "outputs": [
    {
     "name": "stdout",
     "output_type": "stream",
     "text": [
      "                            OLS Regression Results                            \n",
      "==============================================================================\n",
      "Dep. Variable:         pledged_amount   R-squared:                       0.533\n",
      "Model:                            OLS   Adj. R-squared:                  0.532\n",
      "Method:                 Least Squares   F-statistic:                     1517.\n",
      "Date:                Thu, 31 May 2018   Prob (F-statistic):               0.00\n",
      "Time:                        15:57:53   Log-Likelihood:                -57972.\n",
      "No. Observations:                3994   AIC:                         1.160e+05\n",
      "Df Residuals:                    3990   BIC:                         1.160e+05\n",
      "Df Model:                           3                                         \n",
      "Covariance Type:            nonrobust                                         \n",
      "===================================================================================\n",
      "                      coef    std err          t      P>|t|      [95.0% Conf. Int.]\n",
      "-----------------------------------------------------------------------------------\n",
      "const             3.13e+04   1.44e+04      2.177      0.030      3115.843  5.95e+04\n",
      "goal                0.8490      0.070     12.156      0.000         0.712     0.986\n",
      "backers            63.4875      1.176     53.982      0.000        61.182    65.793\n",
      "number_of_tiers -1472.6440    847.801     -1.737      0.082     -3134.807   189.519\n",
      "==============================================================================\n",
      "Omnibus:                     6980.246   Durbin-Watson:                   2.022\n",
      "Prob(Omnibus):                  0.000   Jarque-Bera (JB):         14391217.863\n",
      "Skew:                          11.898   Prob(JB):                         0.00\n",
      "Kurtosis:                     296.105   Cond. No.                     2.63e+05\n",
      "==============================================================================\n",
      "\n",
      "Warnings:\n",
      "[1] Standard Errors assume that the covariance matrix of the errors is correctly specified.\n",
      "[2] The condition number is large, 2.63e+05. This might indicate that there are\n",
      "strong multicollinearity or other numerical problems.\n"
     ]
    }
   ],
   "source": [
    "import statsmodels.api as sm\n",
    "from scipy import stats\n",
    "\n",
    "\n",
    "\n",
    "X2 = sm.add_constant(X)\n",
    "est = sm.OLS(y, X2)\n",
    "est2 = est.fit()\n",
    "print(est2.summary())"
   ]
  },
  {
   "cell_type": "code",
   "execution_count": 434,
   "metadata": {
    "collapsed": false
   },
   "outputs": [
    {
     "name": "stdout",
     "output_type": "stream",
     "text": [
      "CROSS VALIDATION each fold\n",
      "Model 0\n",
      "MSE: 173426387102.1344\n",
      "R2: 0.5323472514683468\n",
      "\n",
      "Model 0\n",
      "MSE: 503623932143.4641\n",
      "R2: 0.5291039925565761\n",
      "\n",
      "Model 0\n",
      "MSE: 162751171601.02197\n",
      "R2: 0.5236900886987599\n",
      "\n",
      "Model 0\n",
      "MSE: 283661484161.065\n",
      "R2: 0.5301024632812279\n",
      "\n",
      "Model 0\n",
      "MSE: 148146864305.40613\n",
      "R2: 0.5291278084555774\n",
      "\n",
      "SUMMARY OF CROSS VALIDATION\n",
      "Mean of MSE for all folds: 254321967862.61835\n",
      "Mean of RMSE for all folds: 504303.448196\n",
      "Mean of R2 for all folds: 0.5288743208920976\n"
     ]
    }
   ],
   "source": [
    "# Run a K-folds cross validation \n",
    "\n",
    "from sklearn import model_selection\n",
    "kf = model_selection.KFold(n_splits=5, shuffle=True)\n",
    "\n",
    "\n",
    "mse_values = []\n",
    "scores = []\n",
    "n = 0\n",
    "print(\"CROSS VALIDATION each fold\")\n",
    "for train_index, test_index in kf.split(X, y):\n",
    "    lr = LinearRegression().fit(X.iloc[train_index], y.iloc[train_index])\n",
    "   \n",
    "    mse_values.append(metrics.mean_squared_error(y.iloc[test_index], lr.predict(X.iloc[test_index])))\n",
    "    scores.append(lr.score(X, y))\n",
    "\n",
    "    print('Model {}'.format(n))\n",
    "    print('MSE: {}'.format(mse_values[n-1]))\n",
    "    print('R2: {}\\n'.format(scores[n-1]))\n",
    "\n",
    "print(\"SUMMARY OF CROSS VALIDATION\")\n",
    "print('Mean of MSE for all folds: {}'.format(np.mean(mse_values)))\n",
    "print('Mean of RMSE for all folds: ' + str(np.sqrt(np.mean(mse_values))))\n",
    "print('Mean of R2 for all folds: {}'.format(np.mean(scores)))"
   ]
  },
  {
   "cell_type": "markdown",
   "metadata": {},
   "source": [
    "# Limitations and Predicted Ommitted Variables"
   ]
  },
  {
   "cell_type": "markdown",
   "metadata": {},
   "source": [
    "# Things to expand on in future"
   ]
  },
  {
   "cell_type": "markdown",
   "metadata": {},
   "source": [
    "- In terms of price discrimination, could compare how close the average of the pledge tier prices that got you a copy of product vs final product?\n",
    "- Scrape my own data, do it daily to get data on how projects get funded throughout the life of the funding period\n"
   ]
  },
  {
   "cell_type": "markdown",
   "metadata": {
    "collapsed": true
   },
   "source": [
    "# Some additional graphics using location"
   ]
  },
  {
   "cell_type": "code",
   "execution_count": 436,
   "metadata": {
    "collapsed": true
   },
   "outputs": [],
   "source": [
    "ksmbCA = ksmb[ksmb.State == 'CA']"
   ]
  },
  {
   "cell_type": "code",
   "execution_count": 437,
   "metadata": {
    "collapsed": false
   },
   "outputs": [
    {
     "data": {
      "image/png": "[encoded data removed]",
      "text/plain": [
       "<matplotlib.figure.Figure at 0x1d3df821fd0>"
      ]
     },
     "metadata": {},
     "output_type": "display_data"
    }
   ],
   "source": [
    "amt_pledged = ksmbCA['pledged_amount'].groupby(ksmbCA['category'])\n",
    "pledged_by_catCA = amt_pledged.sum().sort_values(ascending = False)[0:10]\n",
    "\n",
    "graph1 = pledged_by_catCA.plot(kind = 'bar', figsize = (12,6))\n",
    "graph1.set_title('Total Amount Pledged by Category \\n (California Only)', fontsize = 20)\n",
    "graph1.set_xlabel('Category', fontsize = 16)\n",
    "graph1.set_ylabel('Amount Pledged', fontsize = 16);"
   ]
  },
  {
   "cell_type": "code",
   "execution_count": 438,
   "metadata": {
    "collapsed": false
   },
   "outputs": [
    {
     "data": {
      "image/png": "[encoded data removed]",
      "text/plain": [
       "<matplotlib.figure.Figure at 0x1d3dc49d470>"
      ]
     },
     "metadata": {},
     "output_type": "display_data"
    }
   ],
   "source": [
    "ksmbNY = ksmb[ksmb.State == 'NY']\n",
    "\n",
    "amt_pledged = ksmbNY['pledged_amount'].groupby(ksmbNY['category'])\n",
    "pledged_by_catNY = amt_pledged.sum().sort_values(ascending = False)[0:10]\n",
    "\n",
    "graph1 = pledged_by_catNY.plot(kind = 'bar', figsize = (12,6))\n",
    "graph1.set_title('Total Amount Pledged by Category \\n (New York Only)', fontsize = 20)\n",
    "graph1.set_xlabel('Category', fontsize = 16)\n",
    "graph1.set_ylabel('Amount Pledged', fontsize = 16);"
   ]
  },
  {
   "cell_type": "code",
   "execution_count": 439,
   "metadata": {
    "collapsed": false
   },
   "outputs": [
    {
     "data": {
      "image/png": "[encoded data removed]",
      "text/plain": [
       "<matplotlib.figure.Figure at 0x1d3e166ceb8>"
      ]
     },
     "metadata": {},
     "output_type": "display_data"
    }
   ],
   "source": [
    "ksmbTX = ksmb[ksmb.State == 'TX']\n",
    "\n",
    "amt_pledged = ksmbTX['pledged_amount'].groupby(ksmbTX['category'])\n",
    "pledged_by_catTX = amt_pledged.sum().sort_values(ascending = False)[0:10]\n",
    "\n",
    "graph1 = pledged_by_catTX.plot(kind = 'bar', figsize = (12,6))\n",
    "graph1.set_title('Total Amount Pledged by Category \\n (Texas Only)', fontsize = 20)\n",
    "graph1.set_xlabel('Category', fontsize = 16)\n",
    "graph1.set_ylabel('Amount Pledged', fontsize = 16);"
   ]
  },
  {
   "cell_type": "code",
   "execution_count": 440,
   "metadata": {
    "collapsed": false
   },
   "outputs": [
    {
     "data": {
      "image/png": "[encoded data removed]",
      "text/plain": [
       "<matplotlib.figure.Figure at 0x1d3e16b7f98>"
      ]
     },
     "metadata": {},
     "output_type": "display_data"
    }
   ],
   "source": [
    "ksmbWA = ksmb[ksmb.State == 'WA']\n",
    "\n",
    "amt_pledged = ksmbWA['pledged_amount'].groupby(ksmbTX['category'])\n",
    "pledged_by_catWA = amt_pledged.sum().sort_values(ascending = False)[0:10]\n",
    "\n",
    "graph1 = pledged_by_catTX.plot(kind = 'bar', figsize = (12,6))\n",
    "graph1.set_title('Total Amount Pledged by Category \\n (Washington Only)', fontsize = 20)\n",
    "graph1.set_xlabel('Category', fontsize = 16)\n",
    "graph1.set_ylabel('Amount Pledged', fontsize = 16);"
   ]
  },
  {
   "cell_type": "code",
   "execution_count": 441,
   "metadata": {
    "collapsed": false
   },
   "outputs": [
    {
     "data": {
      "image/png": "[encoded data removed]",
      "text/plain": [
       "<matplotlib.figure.Figure at 0x1d3e169b860>"
      ]
     },
     "metadata": {},
     "output_type": "display_data"
    }
   ],
   "source": [
    "ksmbNotUS = ksmb[ksmb.State.str.len() >2]\n",
    "\n",
    "amt_pledged = ksmbNotUS['pledged_amount'].groupby(ksmbNotUS['category'])\n",
    "pledged_by_catNotUS = amt_pledged.sum().sort_values(ascending = False)[0:10]\n",
    "\n",
    "graph1 = pledged_by_catNotUS.plot(kind = 'bar', figsize = (12,6))\n",
    "graph1.set_title('Total Amount Pledged by Category \\n (Outside U.S.)', fontsize = 20)\n",
    "graph1.set_xlabel('Category', fontsize = 16)\n",
    "graph1.set_ylabel('Amount Pledged', fontsize = 16);"
   ]
  },
  {
   "cell_type": "code",
   "execution_count": 442,
   "metadata": {
    "collapsed": false
   },
   "outputs": [
    {
     "data": {
      "text/plain": [
       "(610, 17)"
      ]
     },
     "execution_count": 442,
     "metadata": {},
     "output_type": "execute_result"
    }
   ],
   "source": [
    "ksmbNotUS.shape"
   ]
  },
  {
   "cell_type": "code",
   "execution_count": null,
   "metadata": {
    "collapsed": true
   },
   "outputs": [],
   "source": []
  }
 ],
 "metadata": {
  "kernelspec": {
   "display_name": "Python 3",
   "language": "python",
   "name": "python3"
  },
  "language_info": {
   "codemirror_mode": {
    "name": "ipython",
    "version": 3
   },
   "file_extension": ".py",
   "mimetype": "text/x-python",
   "name": "python",
   "nbconvert_exporter": "python",
   "pygments_lexer": "ipython3",
   "version": "3.6.0"
  }
 },
 "nbformat": 4,
 "nbformat_minor": 2
}
