{
 "cells": [
  {
   "cell_type": "markdown",
   "metadata": {},
   "source": [
    "# Final Project Notebook\n",
    "\n",
    "### I'll keep track of my final project work here\n",
    "\n"
   ]
  },
  {
   "cell_type": "markdown",
   "metadata": {},
   "source": [
    "Updates\n",
    "\n",
    "5/12/18: Moved all my EDA work into the notebook"
   ]
  },
  {
   "cell_type": "markdown",
   "metadata": {},
   "source": [
    "#### Suggestions of EDA from Joe\n",
    "\n",
    "Example EDA for your final project check-in submission on May 15 may include (but is not limited to):\n",
    "- Identifying the amount and type of your data\n",
    "- Cleaning 'aesthetics' of your dataset (renaming columns to remove space or have consistency)\n",
    "- Checking data integrity (missing values, and how you may fill them in; identifying and explaining/handling anomalies)\n",
    "- Filtering and sorting of your data to identify relevant populations\n",
    "- Plotting distributions of variables of interest\n",
    "- Creating plots visualizing anticipated relationships that may inform your model building"
   ]
  },
  {
   "cell_type": "code",
   "execution_count": 22,
   "metadata": {
    "collapsed": true
   },
   "outputs": [],
   "source": [
    "# import packages that I'll probably use\n",
    "import pandas as pd\n",
    "import numpy as np\n",
    "import seaborn as sns\n",
    "import matplotlib.pyplot as plt\n",
    "\n",
    "%matplotlib inline"
   ]
  },
  {
   "cell_type": "code",
   "execution_count": 15,
   "metadata": {
    "collapsed": false
   },
   "outputs": [],
   "source": [
    "# Read in the Data\n",
    "kickstarter_live_csv = './kickstarter-project-statistics/live.csv'\n",
    "ksl = pd.read_csv(kickstarter_live_csv)\n",
    "\n",
    "ksmb_csv = './kickstarter-project-statistics/most_backed.csv'\n",
    "ksmb = pd.read_csv(ksmb_csv)\n"
   ]
  },
  {
   "cell_type": "code",
   "execution_count": 12,
   "metadata": {
    "collapsed": true
   },
   "outputs": [],
   "source": []
  },
  {
   "cell_type": "code",
   "execution_count": 16,
   "metadata": {
    "collapsed": false
   },
   "outputs": [
    {
     "data": {
      "text/plain": [
       "Index(['Unnamed: 0', 'amt.pledged', 'blurb', 'by', 'category', 'currency',\n",
       "       'goal', 'location', 'num.backers', 'num.backers.tier', 'pledge.tier',\n",
       "       'title', 'url'],\n",
       "      dtype='object')"
      ]
     },
     "execution_count": 16,
     "metadata": {},
     "output_type": "execute_result"
    }
   ],
   "source": [
    "ksmb.columns"
   ]
  },
  {
   "cell_type": "markdown",
   "metadata": {},
   "source": [
    "### First 4000 live projects that are currently campaigning on Kickstarter (live.csv)\n",
    "\n",
    "Last updated: 2016-10-29 5pm PDT\n",
    "- amt.pledged: amount pledged (float)\n",
    "- blurb: project blurb (string)\n",
    "- by: project creator (string)\n",
    "- country: abbreviated country code (string of length 2)\n",
    "- currency: currency type of amt.pledged (string of length 3)\n",
    "- end.time: campaign end time (string \"YYYY-MM-DDThh:mm:ss-TZD\")\n",
    "- location: mostly city (string)\n",
    "- pecentage.funded: unit % (int)\n",
    "- state: mostly US states (string of length 2) and others (string)\n",
    "- title: project title (string)\n",
    "- type: type of location (string: County/Island/LocalAdmin/Suburb/Town/Zip)\n",
    "- url: project url after domain (string)"
   ]
  },
  {
   "cell_type": "markdown",
   "metadata": {},
   "source": [
    "### Top 4000 most backed projects ever on Kickstarter (most_backed.csv)\n",
    "\n",
    "- Last updated: 2016-10-30 10pm PDT\n",
    "- amt.pledged\n",
    "- blurb\n",
    "- by\n",
    "- category: project category (string)\n",
    "- currency\n",
    "- goal: original pledge goal (float)\n",
    "- location\n",
    "- num.backers: total number of backers (int)\n",
    "- num.backers.tier: number of backers corresponds to the pledge amount in pledge.tier (int[len(pledge.tier)])\n",
    "- pledge.tier: pledge tiers in USD (float[])\n",
    "- title\n",
    "- url"
   ]
  },
  {
   "cell_type": "code",
   "execution_count": 17,
   "metadata": {
    "collapsed": false,
    "scrolled": true
   },
   "outputs": [
    {
     "data": {
      "text/html": [
       "<div>\n",
       "<table border=\"1\" class=\"dataframe\">\n",
       "  <thead>\n",
       "    <tr style=\"text-align: right;\">\n",
       "      <th></th>\n",
       "      <th>Unnamed: 0</th>\n",
       "      <th>amt.pledged</th>\n",
       "      <th>blurb</th>\n",
       "      <th>by</th>\n",
       "      <th>category</th>\n",
       "      <th>currency</th>\n",
       "      <th>goal</th>\n",
       "      <th>location</th>\n",
       "      <th>num.backers</th>\n",
       "      <th>num.backers.tier</th>\n",
       "      <th>pledge.tier</th>\n",
       "      <th>title</th>\n",
       "      <th>url</th>\n",
       "    </tr>\n",
       "  </thead>\n",
       "  <tbody>\n",
       "    <tr>\n",
       "      <th>0</th>\n",
       "      <td>0</td>\n",
       "      <td>8782571.0</td>\n",
       "      <td>\\r\\nThis is a card game for people who are int...</td>\n",
       "      <td>Elan Lee</td>\n",
       "      <td>Tabletop Games</td>\n",
       "      <td>usd</td>\n",
       "      <td>10000.0</td>\n",
       "      <td>Los Angeles, CA</td>\n",
       "      <td>219382</td>\n",
       "      <td>[15505, 202934, 200, 5]</td>\n",
       "      <td>[20.0, 35.0, 100.0, 500.0]</td>\n",
       "      <td>Exploding Kittens</td>\n",
       "      <td>/projects/elanlee/exploding-kittens</td>\n",
       "    </tr>\n",
       "    <tr>\n",
       "      <th>1</th>\n",
       "      <td>1</td>\n",
       "      <td>6465690.0</td>\n",
       "      <td>\\r\\nAn unusually addicting, high-quality desk ...</td>\n",
       "      <td>Matthew and Mark McLachlan</td>\n",
       "      <td>Product Design</td>\n",
       "      <td>usd</td>\n",
       "      <td>15000.0</td>\n",
       "      <td>Denver, CO</td>\n",
       "      <td>154926</td>\n",
       "      <td>[788, 250, 43073, 21796, 41727, 21627, 12215, ...</td>\n",
       "      <td>[1.0, 14.0, 19.0, 19.0, 35.0, 35.0, 79.0, 79.0...</td>\n",
       "      <td>Fidget Cube: A Vinyl Desk Toy</td>\n",
       "      <td>/projects/antsylabs/fidget-cube-a-vinyl-desk-toy</td>\n",
       "    </tr>\n",
       "    <tr>\n",
       "      <th>2</th>\n",
       "      <td>2</td>\n",
       "      <td>5408916.0</td>\n",
       "      <td>\\r\\nBring Reading Rainbow’s library of interac...</td>\n",
       "      <td>LeVar Burton &amp; Reading Rainbow</td>\n",
       "      <td>Web</td>\n",
       "      <td>usd</td>\n",
       "      <td>1000000.0</td>\n",
       "      <td>Los Angeles, CA</td>\n",
       "      <td>105857</td>\n",
       "      <td>[19639, 14343, 9136, 2259, 5666, 24512, 4957, ...</td>\n",
       "      <td>[5.0, 10.0, 25.0, 30.0, 35.0, 50.0, 75.0, 100....</td>\n",
       "      <td>Bring Reading Rainbow Back for Every Child, Ev...</td>\n",
       "      <td>/projects/readingrainbow/bring-reading-rainbow...</td>\n",
       "    </tr>\n",
       "    <tr>\n",
       "      <th>3</th>\n",
       "      <td>3</td>\n",
       "      <td>5702153.0</td>\n",
       "      <td>\\r\\nUPDATED: This is it. We're making a Veroni...</td>\n",
       "      <td>Rob Thomas</td>\n",
       "      <td>Narrative Film</td>\n",
       "      <td>usd</td>\n",
       "      <td>2000000.0</td>\n",
       "      <td>San Diego, CA</td>\n",
       "      <td>91585</td>\n",
       "      <td>[5938, 8423, 11509, 22997, 23227, 1865, 7260, ...</td>\n",
       "      <td>[1.0, 10.0, 25.0, 35.0, 50.0, 75.0, 100.0, 150...</td>\n",
       "      <td>The Veronica Mars Movie Project</td>\n",
       "      <td>/projects/559914737/the-veronica-mars-movie-pr...</td>\n",
       "    </tr>\n",
       "    <tr>\n",
       "      <th>4</th>\n",
       "      <td>4</td>\n",
       "      <td>3336371.0</td>\n",
       "      <td>\\r\\nAn adventure game from Tim Schafer, Double...</td>\n",
       "      <td>Double Fine and 2 Player Productions</td>\n",
       "      <td>Video Games</td>\n",
       "      <td>usd</td>\n",
       "      <td>400000.0</td>\n",
       "      <td>San Francisco, CA</td>\n",
       "      <td>87142</td>\n",
       "      <td>[47946, 24636, 1090, 11530, 900, 148, 100, 10, 4]</td>\n",
       "      <td>[15.0, 30.0, 60.0, 100.0, 250.0, 500.0, 1000.0...</td>\n",
       "      <td>Double Fine Adventure</td>\n",
       "      <td>/projects/doublefine/double-fine-adventure</td>\n",
       "    </tr>\n",
       "  </tbody>\n",
       "</table>\n",
       "</div>"
      ],
      "text/plain": [
       "   Unnamed: 0  amt.pledged                                              blurb  \\\n",
       "0           0    8782571.0  \\r\\nThis is a card game for people who are int...   \n",
       "1           1    6465690.0  \\r\\nAn unusually addicting, high-quality desk ...   \n",
       "2           2    5408916.0  \\r\\nBring Reading Rainbow’s library of interac...   \n",
       "3           3    5702153.0  \\r\\nUPDATED: This is it. We're making a Veroni...   \n",
       "4           4    3336371.0  \\r\\nAn adventure game from Tim Schafer, Double...   \n",
       "\n",
       "                                     by        category currency       goal  \\\n",
       "0                              Elan Lee  Tabletop Games      usd    10000.0   \n",
       "1            Matthew and Mark McLachlan  Product Design      usd    15000.0   \n",
       "2        LeVar Burton & Reading Rainbow             Web      usd  1000000.0   \n",
       "3                            Rob Thomas  Narrative Film      usd  2000000.0   \n",
       "4  Double Fine and 2 Player Productions     Video Games      usd   400000.0   \n",
       "\n",
       "            location  num.backers  \\\n",
       "0    Los Angeles, CA       219382   \n",
       "1         Denver, CO       154926   \n",
       "2    Los Angeles, CA       105857   \n",
       "3      San Diego, CA        91585   \n",
       "4  San Francisco, CA        87142   \n",
       "\n",
       "                                    num.backers.tier  \\\n",
       "0                            [15505, 202934, 200, 5]   \n",
       "1  [788, 250, 43073, 21796, 41727, 21627, 12215, ...   \n",
       "2  [19639, 14343, 9136, 2259, 5666, 24512, 4957, ...   \n",
       "3  [5938, 8423, 11509, 22997, 23227, 1865, 7260, ...   \n",
       "4  [47946, 24636, 1090, 11530, 900, 148, 100, 10, 4]   \n",
       "\n",
       "                                         pledge.tier  \\\n",
       "0                         [20.0, 35.0, 100.0, 500.0]   \n",
       "1  [1.0, 14.0, 19.0, 19.0, 35.0, 35.0, 79.0, 79.0...   \n",
       "2  [5.0, 10.0, 25.0, 30.0, 35.0, 50.0, 75.0, 100....   \n",
       "3  [1.0, 10.0, 25.0, 35.0, 50.0, 75.0, 100.0, 150...   \n",
       "4  [15.0, 30.0, 60.0, 100.0, 250.0, 500.0, 1000.0...   \n",
       "\n",
       "                                               title  \\\n",
       "0                                  Exploding Kittens   \n",
       "1                      Fidget Cube: A Vinyl Desk Toy   \n",
       "2  Bring Reading Rainbow Back for Every Child, Ev...   \n",
       "3                    The Veronica Mars Movie Project   \n",
       "4                              Double Fine Adventure   \n",
       "\n",
       "                                                 url  \n",
       "0                /projects/elanlee/exploding-kittens  \n",
       "1   /projects/antsylabs/fidget-cube-a-vinyl-desk-toy  \n",
       "2  /projects/readingrainbow/bring-reading-rainbow...  \n",
       "3  /projects/559914737/the-veronica-mars-movie-pr...  \n",
       "4         /projects/doublefine/double-fine-adventure  "
      ]
     },
     "execution_count": 17,
     "metadata": {},
     "output_type": "execute_result"
    }
   ],
   "source": [
    "ksmb.head(5)"
   ]
  },
  {
   "cell_type": "code",
   "execution_count": 18,
   "metadata": {
    "collapsed": true
   },
   "outputs": [],
   "source": [
    "# Get rid of the Unnamed column, something didn't get pulled through right\n",
    "del ksmb['Unnamed: 0']\n"
   ]
  },
  {
   "cell_type": "code",
   "execution_count": 85,
   "metadata": {
    "collapsed": false
   },
   "outputs": [
    {
     "data": {
      "text/html": [
       "<div>\n",
       "<table border=\"1\" class=\"dataframe\">\n",
       "  <thead>\n",
       "    <tr style=\"text-align: right;\">\n",
       "      <th></th>\n",
       "      <th>pledged_amount</th>\n",
       "      <th>pitch</th>\n",
       "      <th>by</th>\n",
       "      <th>category</th>\n",
       "      <th>currency</th>\n",
       "      <th>goal</th>\n",
       "      <th>location</th>\n",
       "      <th>backers</th>\n",
       "      <th>backers_by_tier</th>\n",
       "      <th>pledge_tier</th>\n",
       "      <th>title</th>\n",
       "      <th>url</th>\n",
       "      <th>pledge_tier_count</th>\n",
       "    </tr>\n",
       "  </thead>\n",
       "  <tbody>\n",
       "    <tr>\n",
       "      <th>0</th>\n",
       "      <td>8782571.0</td>\n",
       "      <td>\\r\\nThis is a card game for people who are int...</td>\n",
       "      <td>Elan Lee</td>\n",
       "      <td>Tabletop Games</td>\n",
       "      <td>usd</td>\n",
       "      <td>10000.0</td>\n",
       "      <td>Los Angeles, CA</td>\n",
       "      <td>219382</td>\n",
       "      <td>[15505, 202934, 200, 5]</td>\n",
       "      <td>[20.0, 35.0, 100.0, 500.0]</td>\n",
       "      <td>Exploding Kittens</td>\n",
       "      <td>/projects/elanlee/exploding-kittens</td>\n",
       "      <td>4000</td>\n",
       "    </tr>\n",
       "    <tr>\n",
       "      <th>1</th>\n",
       "      <td>6465690.0</td>\n",
       "      <td>\\r\\nAn unusually addicting, high-quality desk ...</td>\n",
       "      <td>Matthew and Mark McLachlan</td>\n",
       "      <td>Product Design</td>\n",
       "      <td>usd</td>\n",
       "      <td>15000.0</td>\n",
       "      <td>Denver, CO</td>\n",
       "      <td>154926</td>\n",
       "      <td>[788, 250, 43073, 21796, 41727, 21627, 12215, ...</td>\n",
       "      <td>[1.0, 14.0, 19.0, 19.0, 35.0, 35.0, 79.0, 79.0...</td>\n",
       "      <td>Fidget Cube: A Vinyl Desk Toy</td>\n",
       "      <td>/projects/antsylabs/fidget-cube-a-vinyl-desk-toy</td>\n",
       "      <td>4000</td>\n",
       "    </tr>\n",
       "  </tbody>\n",
       "</table>\n",
       "</div>"
      ],
      "text/plain": [
       "   pledged_amount                                              pitch  \\\n",
       "0       8782571.0  \\r\\nThis is a card game for people who are int...   \n",
       "1       6465690.0  \\r\\nAn unusually addicting, high-quality desk ...   \n",
       "\n",
       "                           by        category currency     goal  \\\n",
       "0                    Elan Lee  Tabletop Games      usd  10000.0   \n",
       "1  Matthew and Mark McLachlan  Product Design      usd  15000.0   \n",
       "\n",
       "          location  backers  \\\n",
       "0  Los Angeles, CA   219382   \n",
       "1       Denver, CO   154926   \n",
       "\n",
       "                                     backers_by_tier  \\\n",
       "0                            [15505, 202934, 200, 5]   \n",
       "1  [788, 250, 43073, 21796, 41727, 21627, 12215, ...   \n",
       "\n",
       "                                         pledge_tier  \\\n",
       "0                         [20.0, 35.0, 100.0, 500.0]   \n",
       "1  [1.0, 14.0, 19.0, 19.0, 35.0, 35.0, 79.0, 79.0...   \n",
       "\n",
       "                           title  \\\n",
       "0              Exploding Kittens   \n",
       "1  Fidget Cube: A Vinyl Desk Toy   \n",
       "\n",
       "                                                url  pledge_tier_count  \n",
       "0               /projects/elanlee/exploding-kittens               4000  \n",
       "1  /projects/antsylabs/fidget-cube-a-vinyl-desk-toy               4000  "
      ]
     },
     "execution_count": 85,
     "metadata": {},
     "output_type": "execute_result"
    }
   ],
   "source": [
    "# Figure out how to a column that counts the number of pledge tiers for each project\n",
    "\n",
    "ksmb['pledge_tier_count'] = ksmb.pledge_tier.count()\n",
    "ksmb.head(2)"
   ]
  },
  {
   "cell_type": "code",
   "execution_count": 21,
   "metadata": {
    "collapsed": true
   },
   "outputs": [],
   "source": [
    "# Going to rename all the columns that have periods in them with underscores\n",
    "ksmb.rename(columns = {'amt.pledged' : 'pledged_amount'}, inplace=True)\n",
    "ksmb.rename(columns = {'pledge.tier' : 'pledge_tier'}, inplace=True)\n",
    "ksmb.rename(columns = {'num.backers' : 'backers'}, inplace=True)\n",
    "ksmb.rename(columns = {'num.backers.tier' : 'backers_by_tier'}, inplace=True)\n",
    "ksmb.rename(columns = {'blurb' : 'pitch'}, inplace=True)"
   ]
  },
  {
   "cell_type": "code",
   "execution_count": 23,
   "metadata": {
    "collapsed": false
   },
   "outputs": [
    {
     "data": {
      "text/html": [
       "<div>\n",
       "<table border=\"1\" class=\"dataframe\">\n",
       "  <thead>\n",
       "    <tr style=\"text-align: right;\">\n",
       "      <th></th>\n",
       "      <th>pledged_amount</th>\n",
       "      <th>goal</th>\n",
       "      <th>backers</th>\n",
       "    </tr>\n",
       "  </thead>\n",
       "  <tbody>\n",
       "    <tr>\n",
       "      <th>count</th>\n",
       "      <td>4.000000e+03</td>\n",
       "      <td>4.000000e+03</td>\n",
       "      <td>4000.000000</td>\n",
       "    </tr>\n",
       "    <tr>\n",
       "      <th>mean</th>\n",
       "      <td>2.899923e+05</td>\n",
       "      <td>6.175203e+04</td>\n",
       "      <td>3582.875750</td>\n",
       "    </tr>\n",
       "    <tr>\n",
       "      <th>std</th>\n",
       "      <td>7.119369e+05</td>\n",
       "      <td>1.266715e+05</td>\n",
       "      <td>7316.102809</td>\n",
       "    </tr>\n",
       "    <tr>\n",
       "      <th>min</th>\n",
       "      <td>1.925000e+03</td>\n",
       "      <td>1.000000e+00</td>\n",
       "      <td>1109.000000</td>\n",
       "    </tr>\n",
       "    <tr>\n",
       "      <th>25%</th>\n",
       "      <td>6.771300e+04</td>\n",
       "      <td>1.300000e+04</td>\n",
       "      <td>1406.750000</td>\n",
       "    </tr>\n",
       "    <tr>\n",
       "      <th>50%</th>\n",
       "      <td>1.205860e+05</td>\n",
       "      <td>3.000000e+04</td>\n",
       "      <td>1946.000000</td>\n",
       "    </tr>\n",
       "    <tr>\n",
       "      <th>75%</th>\n",
       "      <td>2.593680e+05</td>\n",
       "      <td>6.000000e+04</td>\n",
       "      <td>3372.000000</td>\n",
       "    </tr>\n",
       "    <tr>\n",
       "      <th>max</th>\n",
       "      <td>2.033899e+07</td>\n",
       "      <td>2.000000e+06</td>\n",
       "      <td>219382.000000</td>\n",
       "    </tr>\n",
       "  </tbody>\n",
       "</table>\n",
       "</div>"
      ],
      "text/plain": [
       "       pledged_amount          goal        backers\n",
       "count    4.000000e+03  4.000000e+03    4000.000000\n",
       "mean     2.899923e+05  6.175203e+04    3582.875750\n",
       "std      7.119369e+05  1.266715e+05    7316.102809\n",
       "min      1.925000e+03  1.000000e+00    1109.000000\n",
       "25%      6.771300e+04  1.300000e+04    1406.750000\n",
       "50%      1.205860e+05  3.000000e+04    1946.000000\n",
       "75%      2.593680e+05  6.000000e+04    3372.000000\n",
       "max      2.033899e+07  2.000000e+06  219382.000000"
      ]
     },
     "execution_count": 23,
     "metadata": {},
     "output_type": "execute_result"
    }
   ],
   "source": [
    "ksmb.describe()"
   ]
  },
  {
   "cell_type": "code",
   "execution_count": 30,
   "metadata": {
    "collapsed": false
   },
   "outputs": [
    {
     "data": {
      "text/plain": [
       "Product Design    773\n",
       "Tabletop Games    742\n",
       "Video Games       524\n",
       "Hardware          182\n",
       "Technology        152\n",
       "Documentary       124\n",
       "Gadgets           121\n",
       "Design             99\n",
       "Comics             79\n",
       "Wearables          64\n",
       "Name: category, dtype: int64"
      ]
     },
     "execution_count": 30,
     "metadata": {},
     "output_type": "execute_result"
    }
   ],
   "source": [
    "# The top 10 categories by overall projects\n",
    "ksmb.category.value_counts(ascending = False)[0:10]"
   ]
  },
  {
   "cell_type": "code",
   "execution_count": 38,
   "metadata": {
    "collapsed": false
   },
   "outputs": [
    {
     "data": {
      "text/plain": [
       "pledged_amount     float64\n",
       "pitch               object\n",
       "by                  object\n",
       "category            object\n",
       "currency            object\n",
       "goal               float64\n",
       "location            object\n",
       "backers              int64\n",
       "backers_by_tier     object\n",
       "pledge_tier         object\n",
       "title               object\n",
       "url                 object\n",
       "dtype: object"
      ]
     },
     "execution_count": 38,
     "metadata": {},
     "output_type": "execute_result"
    }
   ],
   "source": [
    "ksmb.dtypes"
   ]
  },
  {
   "cell_type": "code",
   "execution_count": 43,
   "metadata": {
    "collapsed": false
   },
   "outputs": [
    {
     "name": "stdout",
     "output_type": "stream",
     "text": [
      "(4000, 12)\n",
      "\n",
      "<class 'pandas.core.frame.DataFrame'>\n",
      "RangeIndex: 4000 entries, 0 to 3999\n",
      "Data columns (total 12 columns):\n",
      "pledged_amount     4000 non-null float64\n",
      "pitch              4000 non-null object\n",
      "by                 4000 non-null object\n",
      "category           4000 non-null object\n",
      "currency           4000 non-null object\n",
      "goal               4000 non-null float64\n",
      "location           4000 non-null object\n",
      "backers            4000 non-null int64\n",
      "backers_by_tier    4000 non-null object\n",
      "pledge_tier        4000 non-null object\n",
      "title              4000 non-null object\n",
      "url                4000 non-null object\n",
      "dtypes: float64(2), int64(1), object(9)\n",
      "memory usage: 375.1+ KB\n"
     ]
    }
   ],
   "source": [
    "# Check the shape, and if there are any null values in any of the columns\n",
    "print(ksmb.shape)\n",
    "print()\n",
    "ksmb.info()"
   ]
  },
  {
   "cell_type": "code",
   "execution_count": 65,
   "metadata": {
    "collapsed": false
   },
   "outputs": [
    {
     "data": {
      "image/png": "[encoded data removed]",
      "text/plain": [
       "<matplotlib.figure.Figure at 0x1e69569b630>"
      ]
     },
     "metadata": {},
     "output_type": "display_data"
    }
   ],
   "source": [
    "ksmb.pledged_amount.plot(kind = 'hist', bins = 15);"
   ]
  },
  {
   "cell_type": "code",
   "execution_count": 68,
   "metadata": {
    "collapsed": false
   },
   "outputs": [
    {
     "data": {
      "image/png": "[encoded data removed]",
      "text/plain": [
       "<matplotlib.figure.Figure at 0x1e695ba25f8>"
      ]
     },
     "metadata": {},
     "output_type": "display_data"
    }
   ],
   "source": [
    "ksmb.plot(kind = 'box');"
   ]
  },
  {
   "cell_type": "code",
   "execution_count": 72,
   "metadata": {
    "collapsed": false
   },
   "outputs": [
    {
     "data": {
      "text/plain": [
       "20338986.0"
      ]
     },
     "execution_count": 72,
     "metadata": {},
     "output_type": "execute_result"
    }
   ],
   "source": [
    "ksmb['pledged_amount'].max()"
   ]
  },
  {
   "cell_type": "code",
   "execution_count": 62,
   "metadata": {
    "collapsed": false
   },
   "outputs": [
    {
     "data": {
      "image/png": "[encoded data removed]",
      "text/plain": [
       "<matplotlib.figure.Figure at 0x1e695fc4860>"
      ]
     },
     "metadata": {},
     "output_type": "display_data"
    }
   ],
   "source": [
    "# graph some exploratory graphs\n",
    "amt_pledged = ksmb['pledged_amount'].groupby(ksmb['category'])\n",
    "pledged_by_cat = amt_pledged.sum().sort_values(ascending = False)[0:10]\n",
    "\n",
    "graph1 = pledged_by_cat.plot(kind = 'bar', figsize = (12,6))\n",
    "graph1.set_title('Total Amount Pledged by Category', fontsize = 20)\n",
    "graph1.set_xlabel('Category', fontsize = 16)\n",
    "graph1.set_ylabel('Amount Pledged', fontsize = 16);\n"
   ]
  },
  {
   "cell_type": "code",
   "execution_count": 74,
   "metadata": {
    "collapsed": false
   },
   "outputs": [
    {
     "data": {
      "image/png": "[encoded data removed]",
      "text/plain": [
       "<matplotlib.figure.Figure at 0x1e6957e6cf8>"
      ]
     },
     "metadata": {},
     "output_type": "display_data"
    }
   ],
   "source": [
    "amt_pledged = ksmb['pledged_amount'].groupby(ksmb['location'])\n",
    "pledged_by_cat = amt_pledged.sum().sort_values(ascending = False)[0:10]\n",
    "\n",
    "graph1 = pledged_by_cat.plot(kind = 'bar', figsize = (12,6))\n",
    "graph1.set_title('Total Amount Pledged by City', fontsize = 20)\n",
    "graph1.set_xlabel('City', fontsize = 16)\n",
    "graph1.set_ylabel('Amount Pledged', fontsize = 16);"
   ]
  },
  {
   "cell_type": "code",
   "execution_count": 104,
   "metadata": {
    "collapsed": false
   },
   "outputs": [
    {
     "data": {
      "image/png": "[encoded data removed]",
      "text/plain": [
       "<matplotlib.figure.Figure at 0x1e6953fd668>"
      ]
     },
     "metadata": {},
     "output_type": "display_data"
    }
   ],
   "source": [
    "# Add a few more initial line regressions with the other numeric series. \n",
    "\n",
    "sns.lmplot(x = 'backers', y = 'pledged_amount', data = ksmb, size = 8);"
   ]
  },
  {
   "cell_type": "code",
   "execution_count": null,
   "metadata": {
    "collapsed": true
   },
   "outputs": [],
   "source": []
  }
 ],
 "metadata": {
  "kernelspec": {
   "display_name": "Python 3",
   "language": "python",
   "name": "python3"
  },
  "language_info": {
   "codemirror_mode": {
    "name": "ipython",
    "version": 3
   },
   "file_extension": ".py",
   "mimetype": "text/x-python",
   "name": "python",
   "nbconvert_exporter": "python",
   "pygments_lexer": "ipython3",
   "version": "3.6.0"
  }
 },
 "nbformat": 4,
 "nbformat_minor": 2
}
